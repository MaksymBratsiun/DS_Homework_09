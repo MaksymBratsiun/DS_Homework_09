{
 "cells": [
  {
   "cell_type": "code",
   "execution_count": 1,
   "id": "422958fe",
   "metadata": {},
   "outputs": [
    {
     "name": "stderr",
     "output_type": "stream",
     "text": [
      "2023-08-06 08:32:27.378811: I tensorflow/core/platform/cpu_feature_guard.cc:182] This TensorFlow binary is optimized to use available CPU instructions in performance-critical operations.\n",
      "To enable the following instructions: AVX2 FMA, in other operations, rebuild TensorFlow with the appropriate compiler flags.\n"
     ]
    }
   ],
   "source": [
    "import math\n",
    "\n",
    "import numpy as np\n",
    "import matplotlib.pyplot as plt\n",
    "import pandas as pd\n",
    "# import cv2\n",
    "import joblib\n",
    "import tensorflow as tf\n",
    "from keras.models import load_model\n",
    "from tensorflow.keras.models import Sequential, Model\n",
    "from tensorflow.keras.initializers import RandomNormal\n",
    "from tensorflow.keras.layers import Dense, Dropout\n",
    "from sklearn.model_selection import train_test_split\n",
    "from tensorflow.keras.initializers import RandomNormal\n",
    "from tensorflow.keras.optimizers import Adam, SGD, AdamW, Ftrl, Adamax\n",
    "from tensorflow.keras.metrics import CategoricalAccuracy\n",
    "from tensorflow.keras.callbacks import EarlyStopping, ModelCheckpoint"
   ]
  },
  {
   "cell_type": "markdown",
   "id": "29d07a9c",
   "metadata": {},
   "source": [
    "#Завдання\n",
    "\n",
    "В якості домашнього завдання вам пропонується створити нейронну мережу за допомогою механізмів Keras, яка буде класифікувати товари із датасету fasion_mnist.\n",
    "\n",
    "Вам належить запропонувати свою власну архітектуру мережі. Точність найнаївнішої, але адекватної нейромережі становить приблизно 91%. Точність вашої моделі повинна бути не нижчою за цей показник. Щоб досягти таких значень вам знадобиться поекспериментувати з гіперпараметрами мережі:\n",
    "1. кількість шарів;\n",
    "1. кількість нейронів;\n",
    "1. функції активації;\n",
    "1. кількість епох;\n",
    "1. розмір батчу;\n",
    "1. вибір оптимізатора;\n",
    "1. різні техніки регуляризації і т.д.\n",
    "\n",
    "Використайте вивчені техніки виявлення проблем навчання нейронної мережі, і потім поекспериментуйте.\n"
   ]
  },
  {
   "cell_type": "code",
   "execution_count": 2,
   "id": "fc2e0b7b",
   "metadata": {},
   "outputs": [],
   "source": [
    "num_classes = 10\n",
    "num_features = 28 * 28\n",
    "\n",
    "learning_rate = 0.001\n",
    "n_epochs = 20\n",
    "batch_size = 256"
   ]
  },
  {
   "cell_type": "code",
   "execution_count": 17,
   "id": "15f9714d",
   "metadata": {},
   "outputs": [
    {
     "name": "stdout",
     "output_type": "stream",
     "text": [
      "Downloading data from https://storage.googleapis.com/tensorflow/tf-keras-datasets/train-labels-idx1-ubyte.gz\n",
      "29515/29515 [==============================] - 0s 5us/step\n",
      "Downloading data from https://storage.googleapis.com/tensorflow/tf-keras-datasets/train-images-idx3-ubyte.gz\n",
      "26421880/26421880 [==============================] - 43s 2us/step\n",
      "Downloading data from https://storage.googleapis.com/tensorflow/tf-keras-datasets/t10k-labels-idx1-ubyte.gz\n",
      "5148/5148 [==============================] - 0s 0us/step\n",
      "Downloading data from https://storage.googleapis.com/tensorflow/tf-keras-datasets/t10k-images-idx3-ubyte.gz\n",
      "4422102/4422102 [==============================] - 6s 1us/step\n"
     ]
    }
   ],
   "source": [
    "from tensorflow.keras.datasets import fashion_mnist\n",
    "data_set_fashion = fashion_mnist.load_data()"
   ]
  },
  {
   "cell_type": "code",
   "execution_count": 18,
   "id": "4730c24a",
   "metadata": {},
   "outputs": [
    {
     "data": {
      "text/plain": [
       "['data_set_fashion']"
      ]
     },
     "execution_count": 18,
     "metadata": {},
     "output_type": "execute_result"
    }
   ],
   "source": [
    "joblib.dump(data_set_fashion, \"data_set_fashion\")"
   ]
  },
  {
   "cell_type": "code",
   "execution_count": 3,
   "id": "e70a072a",
   "metadata": {},
   "outputs": [],
   "source": [
    "data_set_fashion = joblib.load( \"data_set_fashion\")"
   ]
  },
  {
   "cell_type": "code",
   "execution_count": 4,
   "id": "d7645676",
   "metadata": {},
   "outputs": [],
   "source": [
    "(x_train_all, y_train_all), (x_test, y_test) = data_set_fashion\n",
    "x_train_all, x_test = np.array(x_train_all, np.float32), np.array(x_test, np.float32)\n",
    "x_train_all, x_test = x_train_all.reshape([-1, num_features]), x_test.reshape([-1, num_features])\n",
    "x_train_all, x_test = x_train_all / 255., x_test / 255.\n",
    "class_to_label = {\n",
    "    0: \"T-shirt/top\",\n",
    "    1: \"Trouser\",\n",
    "    2: \"Pullover\",\n",
    "    3: \"Dress\",\n",
    "    4 :\"Coat\",\n",
    "    5: \"Sandal\",\n",
    "    6 :\"Shirt\",\n",
    "    7: \"Sneaker\",\n",
    "    8: \"Bag\",\n",
    "    9: \"Ankle boot\",\n",
    "}\n"
   ]
  },
  {
   "cell_type": "code",
   "execution_count": 5,
   "id": "551ea894",
   "metadata": {},
   "outputs": [
    {
     "data": {
      "text/plain": [
       "'Sandal'"
      ]
     },
     "execution_count": 5,
     "metadata": {},
     "output_type": "execute_result"
    },
    {
     "data": {
      "image/png": "[encoded data removed]",
      "text/plain": [
       "<Figure size 640x480 with 1 Axes>"
      ]
     },
     "metadata": {},
     "output_type": "display_data"
    }
   ],
   "source": [
    "i_sample = 10555\n",
    "plt.imshow(x_train_all[i_sample].reshape(28, 28), cmap=\"gray\")\n",
    "class_to_label[y_train_all[i_sample]]"
   ]
  },
  {
   "cell_type": "code",
   "execution_count": 7,
   "id": "0529d76e",
   "metadata": {},
   "outputs": [],
   "source": [
    "x_train, x_valid, y_train, y_valid = train_test_split(x_train_all, y_train_all, test_size=0.2, shuffle=True)"
   ]
  },
  {
   "cell_type": "code",
   "execution_count": 8,
   "id": "6fbb16aa",
   "metadata": {},
   "outputs": [
    {
     "data": {
      "text/plain": [
       "((48000, 784), (12000, 784))"
      ]
     },
     "execution_count": 8,
     "metadata": {},
     "output_type": "execute_result"
    }
   ],
   "source": [
    "x_train.shape , x_valid.shape"
   ]
  },
  {
   "cell_type": "code",
   "execution_count": 9,
   "id": "911fb047",
   "metadata": {},
   "outputs": [],
   "source": [
    "class Dataset(tf.keras.utils.Sequence):\n",
    "    def __init__(self, x, y, shuffle=True, batch_size=256):\n",
    "        self.x = x\n",
    "        self.y = y\n",
    "        self.shuffle = shuffle\n",
    "        self.indexes = np.arange(len(self.x))\n",
    "        self.batch_size = batch_size\n",
    "\n",
    "        if shuffle:\n",
    "            self.on_epoch_end()\n",
    "\n",
    "    def __len__(self):\n",
    "        return math.ceil(len(self.x) / self.batch_size)\n",
    "\n",
    "    def __getitem__(self, idx):\n",
    "        indexes = self.indexes[idx * self.batch_size : (idx + 1) * self.batch_size]\n",
    "        # batch_x = [self.x[i].reshape(num_features) for i in indexes]\n",
    "        batch_x = [self.x[i] for i in indexes]\n",
    "        batch_y = [tf.keras.utils.to_categorical(self.y[i], num_classes) for i in indexes]\n",
    "\n",
    "\n",
    "        return np.array(batch_x), np.array(batch_y)\n",
    "\n",
    "    def on_epoch_end(self):\n",
    "        if self.shuffle:\n",
    "            np.random.shuffle(self.indexes)"
   ]
  },
  {
   "cell_type": "code",
   "execution_count": 9,
   "id": "0548933b",
   "metadata": {},
   "outputs": [],
   "source": [
    "train_dataset = Dataset(x_train, y_train, shuffle=True, batch_size=256)\n",
    "valid_dataset = Dataset(x_valid, y_valid, shuffle=False, batch_size=256)"
   ]
  },
  {
   "cell_type": "code",
   "execution_count": 10,
   "id": "6081f7c5",
   "metadata": {},
   "outputs": [],
   "source": [
    "# Test layers = 3, learning_rate = 0.001, n_epochs = 20, batch_size = 256\n",
    "model = Sequential(\n",
    "    [\n",
    "        Dense(1024, activation=\"relu\", input_shape=(num_features,)),\n",
    "        Dense(1024, activation=\"relu\"),\n",
    "        Dense(1024, activation=\"relu\"),\n",
    "        Dense(10, activation=\"softmax\"),\n",
    "    ]\n",
    ")"
   ]
  },
  {
   "cell_type": "code",
   "execution_count": 11,
   "id": "61d9d90b",
   "metadata": {},
   "outputs": [],
   "source": [
    "model.compile(\n",
    "    optimizer=Adam(learning_rate=0.001),\n",
    "    loss=\"categorical_crossentropy\",\n",
    "    metrics=[CategoricalAccuracy()],\n",
    ")"
   ]
  },
  {
   "cell_type": "code",
   "execution_count": 12,
   "id": "84d08d40",
   "metadata": {},
   "outputs": [],
   "source": [
    "callback_early_stopping = EarlyStopping(\n",
    "    monitor=\"val_loss\",\n",
    "    patience=2,\n",
    "    verbose=1\n",
    ")\n",
    "\n",
    "\n",
    "callback_save = ModelCheckpoint(\n",
    "    \"best.hdf5\",\n",
    "    monitor=\"val_loss\",\n",
    "    save_best_only=True,\n",
    "    verbose=1\n",
    ")"
   ]
  },
  {
   "cell_type": "code",
   "execution_count": 13,
   "id": "be88985f",
   "metadata": {},
   "outputs": [
    {
     "name": "stdout",
     "output_type": "stream",
     "text": [
      "Epoch 1/20\n",
      "187/188 [============================>.] - ETA: 0s - loss: 0.5015 - categorical_accuracy: 0.8183\n",
      "Epoch 1: val_loss improved from inf to 0.40404, saving model to best.hdf5\n",
      "188/188 [==============================] - 8s 39ms/step - loss: 0.5008 - categorical_accuracy: 0.8187 - val_loss: 0.4040 - val_categorical_accuracy: 0.8512\n",
      "Epoch 2/20\n",
      "  1/188 [..............................] - ETA: 10s - loss: 0.4126 - categorical_accuracy: 0.8398"
     ]
    },
    {
     "name": "stderr",
     "output_type": "stream",
     "text": [
      "/usr/local/lib/python3.8/dist-packages/keras/src/engine/training.py:3000: UserWarning: You are saving your model as an HDF5 file via `model.save()`. This file format is considered legacy. We recommend using instead the native Keras format, e.g. `model.save('my_model.keras')`.\n",
      "  saving_api.save_model(\n"
     ]
    },
    {
     "name": "stdout",
     "output_type": "stream",
     "text": [
      "187/188 [============================>.] - ETA: 0s - loss: 0.3564 - categorical_accuracy: 0.8687\n",
      "Epoch 2: val_loss improved from 0.40404 to 0.35725, saving model to best.hdf5\n",
      "188/188 [==============================] - 9s 47ms/step - loss: 0.3562 - categorical_accuracy: 0.8687 - val_loss: 0.3572 - val_categorical_accuracy: 0.8687\n",
      "Epoch 3/20\n",
      "187/188 [============================>.] - ETA: 0s - loss: 0.3194 - categorical_accuracy: 0.8811\n",
      "Epoch 3: val_loss improved from 0.35725 to 0.32320, saving model to best.hdf5\n",
      "188/188 [==============================] - 9s 46ms/step - loss: 0.3194 - categorical_accuracy: 0.8810 - val_loss: 0.3232 - val_categorical_accuracy: 0.8802\n",
      "Epoch 4/20\n",
      "187/188 [============================>.] - ETA: 0s - loss: 0.2952 - categorical_accuracy: 0.8887\n",
      "Epoch 4: val_loss did not improve from 0.32320\n",
      "188/188 [==============================] - 7s 38ms/step - loss: 0.2951 - categorical_accuracy: 0.8888 - val_loss: 0.3497 - val_categorical_accuracy: 0.8702\n",
      "Epoch 5/20\n",
      "187/188 [============================>.] - ETA: 0s - loss: 0.2735 - categorical_accuracy: 0.8965\n",
      "Epoch 5: val_loss improved from 0.32320 to 0.31825, saving model to best.hdf5\n",
      "188/188 [==============================] - 7s 38ms/step - loss: 0.2735 - categorical_accuracy: 0.8966 - val_loss: 0.3182 - val_categorical_accuracy: 0.8828\n",
      "Epoch 6/20\n",
      "187/188 [============================>.] - ETA: 0s - loss: 0.2611 - categorical_accuracy: 0.9011\n",
      "Epoch 6: val_loss did not improve from 0.31825\n",
      "188/188 [==============================] - 8s 42ms/step - loss: 0.2612 - categorical_accuracy: 0.9010 - val_loss: 0.3503 - val_categorical_accuracy: 0.8752\n",
      "Epoch 7/20\n",
      "188/188 [==============================] - ETA: 0s - loss: 0.2444 - categorical_accuracy: 0.9075\n",
      "Epoch 7: val_loss did not improve from 0.31825\n",
      "188/188 [==============================] - 8s 41ms/step - loss: 0.2444 - categorical_accuracy: 0.9075 - val_loss: 0.3270 - val_categorical_accuracy: 0.8836\n",
      "Epoch 8/20\n",
      "187/188 [============================>.] - ETA: 0s - loss: 0.2363 - categorical_accuracy: 0.9102\n",
      "Epoch 8: val_loss did not improve from 0.31825\n",
      "188/188 [==============================] - 7s 38ms/step - loss: 0.2360 - categorical_accuracy: 0.9104 - val_loss: 0.3221 - val_categorical_accuracy: 0.8888\n",
      "Epoch 8: early stopping\n"
     ]
    }
   ],
   "source": [
    "history = model.fit(\n",
    "    train_dataset,\n",
    "    validation_data=valid_dataset,\n",
    "    epochs=n_epochs,\n",
    "    verbose=1,\n",
    "    callbacks=[callback_early_stopping, callback_save]\n",
    ")"
   ]
  },
  {
   "cell_type": "code",
   "execution_count": 14,
   "id": "e6c7e8e2",
   "metadata": {},
   "outputs": [
    {
     "data": {
      "image/png": "[encoded data removed]",
      "text/plain": [
       "<Figure size 640x480 with 1 Axes>"
      ]
     },
     "metadata": {},
     "output_type": "display_data"
    }
   ],
   "source": [
    "plt.plot(history.history[\"loss\"], label=\"train loss\")\n",
    "plt.plot(history.history[\"val_loss\"], label=\"valid loss\")\n",
    "plt.legend()\n",
    "plt.grid()"
   ]
  },
  {
   "cell_type": "code",
   "execution_count": 15,
   "id": "d1452bcd",
   "metadata": {},
   "outputs": [
    {
     "data": {
      "image/png": "[encoded data removed]",
      "text/plain": [
       "<Figure size 640x480 with 1 Axes>"
      ]
     },
     "metadata": {},
     "output_type": "display_data"
    }
   ],
   "source": [
    "plt.plot(history.history[\"categorical_accuracy\"], label=\"train accuracy\")\n",
    "plt.plot(history.history[\"val_categorical_accuracy\"], label=\"valid accuracy\")\n",
    "plt.legend()\n",
    "plt.grid()"
   ]
  },
  {
   "cell_type": "code",
   "execution_count": 16,
   "id": "6e2d277e",
   "metadata": {},
   "outputs": [],
   "source": [
    "test_out = model(x_test).numpy()"
   ]
  },
  {
   "cell_type": "code",
   "execution_count": 17,
   "id": "6e8a7421",
   "metadata": {},
   "outputs": [
    {
     "name": "stdout",
     "output_type": "stream",
     "text": [
      "Accuracy test data: 0.8858\n"
     ]
    }
   ],
   "source": [
    "accuracy_test = np.mean(test_out.argmax(axis=1) == y_test)\n",
    "print(f\"Accuracy test data: {accuracy_test.round(4)}\" )"
   ]
  },
  {
   "cell_type": "markdown",
   "id": "7818ff0d",
   "metadata": {},
   "source": [
    "Test data - layers = 3, learning_rate = 0.001, n_epochs = 10, batch_size = 256, optimizer=Adam\n",
    "\n",
    "**Accuracy: 0.8838**"
   ]
  },
  {
   "cell_type": "code",
   "execution_count": 36,
   "id": "65a73794",
   "metadata": {},
   "outputs": [],
   "source": [
    "# Test number of layers.  learning_rate = 0.001, n_epochs = 10, batch_size = 256\n",
    "train_dataset = Dataset(x_train, y_train, shuffle=True, batch_size=256)\n",
    "valid_dataset = Dataset(x_valid, y_valid, shuffle=False, batch_size=256)"
   ]
  },
  {
   "cell_type": "code",
   "execution_count": 49,
   "id": "852f8243",
   "metadata": {},
   "outputs": [],
   "source": [
    "learning_rate = 0.001\n",
    "n_epochs = 20\n",
    "batch_size = 256\n",
    "layers = [1, 2, 3, 4] # not include finish layer with softmax but include start layer"
   ]
  },
  {
   "cell_type": "code",
   "execution_count": 38,
   "id": "4520fa8b",
   "metadata": {},
   "outputs": [],
   "source": [
    "conf_dense_start = Dense(1024, activation=\"relu\", input_shape=(num_features,))\n",
    "conf_dense_layer = Dense(1024, activation=\"relu\")\n",
    "conf_dense_end = Dense(10, activation=\"softmax\")"
   ]
  },
  {
   "cell_type": "code",
   "execution_count": 39,
   "id": "1064a61c",
   "metadata": {},
   "outputs": [
    {
     "name": "stderr",
     "output_type": "stream",
     "text": [
      "WARNING:absl:`lr` is deprecated in Keras optimizer, please use `learning_rate` or use the legacy optimizer, e.g.,tf.keras.optimizers.legacy.Adam.\n"
     ]
    },
    {
     "name": "stdout",
     "output_type": "stream",
     "text": [
      "Epoch 1/20\n",
      "188/188 [==============================] - 3s 12ms/step - loss: 0.5505 - categorical_accuracy: 0.8091 - val_loss: 0.4182 - val_categorical_accuracy: 0.8528\n",
      "Epoch 2/20\n",
      "188/188 [==============================] - 2s 11ms/step - loss: 0.3849 - categorical_accuracy: 0.8646 - val_loss: 0.3998 - val_categorical_accuracy: 0.8549\n",
      "Epoch 3/20\n",
      "188/188 [==============================] - 2s 11ms/step - loss: 0.3505 - categorical_accuracy: 0.8738 - val_loss: 0.3763 - val_categorical_accuracy: 0.8629\n",
      "Epoch 4/20\n",
      "188/188 [==============================] - 2s 11ms/step - loss: 0.3182 - categorical_accuracy: 0.8853 - val_loss: 0.3349 - val_categorical_accuracy: 0.8797\n",
      "Epoch 5/20\n",
      "188/188 [==============================] - 2s 11ms/step - loss: 0.2938 - categorical_accuracy: 0.8942 - val_loss: 0.3351 - val_categorical_accuracy: 0.8759\n",
      "Epoch 6/20\n",
      "188/188 [==============================] - 2s 11ms/step - loss: 0.2785 - categorical_accuracy: 0.8986 - val_loss: 0.3389 - val_categorical_accuracy: 0.8728\n",
      "Epoch 7/20\n",
      "188/188 [==============================] - 2s 11ms/step - loss: 0.2681 - categorical_accuracy: 0.9021 - val_loss: 0.3573 - val_categorical_accuracy: 0.8699\n",
      "Epoch 7: early stopping\n"
     ]
    },
    {
     "name": "stderr",
     "output_type": "stream",
     "text": [
      "WARNING:absl:`lr` is deprecated in Keras optimizer, please use `learning_rate` or use the legacy optimizer, e.g.,tf.keras.optimizers.legacy.Adam.\n"
     ]
    },
    {
     "name": "stdout",
     "output_type": "stream",
     "text": [
      "\n",
      "Accuracy test data: layer 1 - 0.8576\n",
      "\n",
      "Epoch 1/20\n",
      "188/188 [==============================] - 5s 25ms/step - loss: 0.3611 - categorical_accuracy: 0.8740 - val_loss: 0.3515 - val_categorical_accuracy: 0.8673\n",
      "Epoch 2/20\n",
      "188/188 [==============================] - 5s 24ms/step - loss: 0.2637 - categorical_accuracy: 0.9033 - val_loss: 0.3304 - val_categorical_accuracy: 0.8802\n",
      "Epoch 3/20\n",
      "188/188 [==============================] - 5s 24ms/step - loss: 0.2440 - categorical_accuracy: 0.9094 - val_loss: 0.3034 - val_categorical_accuracy: 0.8908\n",
      "Epoch 4/20\n",
      "188/188 [==============================] - 5s 24ms/step - loss: 0.2308 - categorical_accuracy: 0.9139 - val_loss: 0.3378 - val_categorical_accuracy: 0.8790\n",
      "Epoch 5/20\n",
      "188/188 [==============================] - 5s 24ms/step - loss: 0.2211 - categorical_accuracy: 0.9176 - val_loss: 0.3188 - val_categorical_accuracy: 0.8878\n",
      "Epoch 6/20\n",
      "188/188 [==============================] - 5s 24ms/step - loss: 0.2115 - categorical_accuracy: 0.9214 - val_loss: 0.3444 - val_categorical_accuracy: 0.8838\n",
      "Epoch 6: early stopping\n"
     ]
    },
    {
     "name": "stderr",
     "output_type": "stream",
     "text": [
      "WARNING:absl:`lr` is deprecated in Keras optimizer, please use `learning_rate` or use the legacy optimizer, e.g.,tf.keras.optimizers.legacy.Adam.\n"
     ]
    },
    {
     "name": "stdout",
     "output_type": "stream",
     "text": [
      "\n",
      "Accuracy test data: layer 2 - 0.8738\n",
      "\n",
      "Epoch 1/20\n",
      "188/188 [==============================] - 7s 36ms/step - loss: 0.2207 - categorical_accuracy: 0.9187 - val_loss: 0.3220 - val_categorical_accuracy: 0.8896\n",
      "Epoch 2/20\n",
      "188/188 [==============================] - 7s 35ms/step - loss: 0.1991 - categorical_accuracy: 0.9264 - val_loss: 0.3301 - val_categorical_accuracy: 0.8892\n",
      "Epoch 3/20\n",
      "188/188 [==============================] - 7s 35ms/step - loss: 0.1902 - categorical_accuracy: 0.9287 - val_loss: 0.3248 - val_categorical_accuracy: 0.8950\n",
      "Epoch 4/20\n",
      "188/188 [==============================] - 7s 35ms/step - loss: 0.1820 - categorical_accuracy: 0.9314 - val_loss: 0.3530 - val_categorical_accuracy: 0.8860\n",
      "Epoch 4: early stopping\n",
      "\n",
      "Accuracy test data: layer 3 - 0.8834\n",
      "\n"
     ]
    }
   ],
   "source": [
    "res_accuracy = []\n",
    "for n_layers in layers:\n",
    "\n",
    "  conf_dense = []\n",
    "  conf_dense.append(conf_dense_start)\n",
    "  if n_layers > 1:\n",
    "    for _ in range(n_layers-1):\n",
    "      conf_dense.append(conf_dense_layer)\n",
    "  conf_dense.append(conf_dense_end)\n",
    "\n",
    "  model_ = Sequential(conf_dense)\n",
    "\n",
    "  model_.compile(\n",
    "      optimizer=Adam(learning_rate=learning_rate),\n",
    "      loss=\"categorical_crossentropy\",\n",
    "      metrics=[CategoricalAccuracy()],\n",
    "  )\n",
    "\n",
    "  model_.fit(\n",
    "      train_dataset,\n",
    "      validation_data=valid_dataset,\n",
    "      epochs=n_epochs,\n",
    "      verbose=1,\n",
    "      callbacks=[callback_early_stopping]\n",
    "  )\n",
    "\n",
    "  test_out = model_(x_test).numpy()\n",
    "  accuracy_test = np.mean(test_out.argmax(axis=1) == y_test)\n",
    "\n",
    "  res_accuracy.append(accuracy_test)\n",
    "\n",
    "  print()\n",
    "  print(f\"Accuracy test data: layer {n_layers} - {accuracy_test.round(4)}\" )\n",
    "  print()"
   ]
  },
  {
   "cell_type": "code",
   "execution_count": null,
   "id": "2870318f",
   "metadata": {},
   "outputs": [],
   "source": [
    "Its strange calculating because loss saving between models. Try another way."
   ]
  },
  {
   "cell_type": "code",
   "execution_count": 44,
   "id": "00452283",
   "metadata": {},
   "outputs": [
    {
     "name": "stdout",
     "output_type": "stream",
     "text": [
      "Epoch 1/20\n",
      "188/188 [==============================] - 3s 12ms/step - loss: 0.5504 - categorical_accuracy: 0.8074 - val_loss: 0.4312 - val_categorical_accuracy: 0.8503\n",
      "Epoch 2/20\n",
      "188/188 [==============================] - 2s 12ms/step - loss: 0.3897 - categorical_accuracy: 0.8642 - val_loss: 0.3914 - val_categorical_accuracy: 0.8608\n",
      "Epoch 3/20\n",
      "188/188 [==============================] - 2s 11ms/step - loss: 0.3496 - categorical_accuracy: 0.8747 - val_loss: 0.3540 - val_categorical_accuracy: 0.8718\n",
      "Epoch 4/20\n",
      "188/188 [==============================] - 2s 12ms/step - loss: 0.3203 - categorical_accuracy: 0.8850 - val_loss: 0.3537 - val_categorical_accuracy: 0.8698\n",
      "Epoch 5/20\n",
      "188/188 [==============================] - 2s 12ms/step - loss: 0.2973 - categorical_accuracy: 0.8919 - val_loss: 0.3167 - val_categorical_accuracy: 0.8840\n",
      "Epoch 6/20\n",
      "188/188 [==============================] - 2s 12ms/step - loss: 0.2796 - categorical_accuracy: 0.8993 - val_loss: 0.3290 - val_categorical_accuracy: 0.8762\n",
      "Epoch 7/20\n",
      "188/188 [==============================] - 2s 12ms/step - loss: 0.2725 - categorical_accuracy: 0.9007 - val_loss: 0.3110 - val_categorical_accuracy: 0.8857\n",
      "Epoch 8/20\n",
      "188/188 [==============================] - 2s 12ms/step - loss: 0.2568 - categorical_accuracy: 0.9056 - val_loss: 0.3118 - val_categorical_accuracy: 0.8876\n",
      "Epoch 9/20\n",
      "188/188 [==============================] - 2s 11ms/step - loss: 0.2409 - categorical_accuracy: 0.9112 - val_loss: 0.3128 - val_categorical_accuracy: 0.8878\n",
      "Epoch 9: early stopping\n",
      "\n",
      "Accuracy test data: layer 1 - 0.8755\n",
      "\n"
     ]
    }
   ],
   "source": [
    "conf_dense = [conf_dense_start, conf_dense_end]\n",
    "res_accuracy = []\n",
    "\n",
    "model_1 = Sequential(\n",
    "    [\n",
    "        Dense(1024, activation=\"relu\", input_shape=(num_features,)),\n",
    "        Dense(10, activation=\"softmax\"),\n",
    "    ]\n",
    ")\n",
    "\n",
    "model_1.compile(\n",
    "  optimizer=Adam(learning_rate=learning_rate),\n",
    "  loss=\"categorical_crossentropy\",\n",
    "  metrics=[CategoricalAccuracy()],\n",
    ")\n",
    "\n",
    "model_1.fit(\n",
    "  train_dataset,\n",
    "  validation_data=valid_dataset,\n",
    "  epochs=n_epochs,\n",
    "  verbose=1,\n",
    "  callbacks=[callback_early_stopping]\n",
    ")\n",
    "\n",
    "test_out = model_1(x_test).numpy()\n",
    "accuracy_test = np.mean(test_out.argmax(axis=1) == y_test)\n",
    "\n",
    "res_accuracy.append(accuracy_test)\n",
    "\n",
    "print()\n",
    "print(f\"Accuracy test data: layer 1 - {accuracy_test.round(4)}\" )\n",
    "print()"
   ]
  },
  {
   "cell_type": "code",
   "execution_count": 45,
   "id": "3605ebe9",
   "metadata": {},
   "outputs": [
    {
     "name": "stdout",
     "output_type": "stream",
     "text": [
      "Epoch 1/20\n",
      "188/188 [==============================] - 5s 25ms/step - loss: 0.5054 - categorical_accuracy: 0.8216 - val_loss: 0.3889 - val_categorical_accuracy: 0.8586\n",
      "Epoch 2/20\n",
      "188/188 [==============================] - 5s 25ms/step - loss: 0.3540 - categorical_accuracy: 0.8704 - val_loss: 0.3748 - val_categorical_accuracy: 0.8584\n",
      "Epoch 3/20\n",
      "188/188 [==============================] - 5s 25ms/step - loss: 0.3192 - categorical_accuracy: 0.8813 - val_loss: 0.3520 - val_categorical_accuracy: 0.8708\n",
      "Epoch 4/20\n",
      "188/188 [==============================] - 5s 25ms/step - loss: 0.2880 - categorical_accuracy: 0.8933 - val_loss: 0.3130 - val_categorical_accuracy: 0.8839\n",
      "Epoch 5/20\n",
      "188/188 [==============================] - 5s 25ms/step - loss: 0.2703 - categorical_accuracy: 0.8996 - val_loss: 0.3402 - val_categorical_accuracy: 0.8758\n",
      "Epoch 6/20\n",
      "188/188 [==============================] - 5s 24ms/step - loss: 0.2629 - categorical_accuracy: 0.9025 - val_loss: 0.3132 - val_categorical_accuracy: 0.8843\n",
      "Epoch 6: early stopping\n",
      "\n",
      "Accuracy test data: layer 2 - 0.879\n",
      "\n"
     ]
    }
   ],
   "source": [
    "model_2 = Sequential(\n",
    "    [\n",
    "        Dense(1024, activation=\"relu\", input_shape=(num_features,)),\n",
    "        Dense(1024, activation=\"relu\"),\n",
    "        Dense(10, activation=\"softmax\"),\n",
    "    ]\n",
    ")\n",
    "\n",
    "model_2.compile(\n",
    "  optimizer=Adam(learning_rate=learning_rate),\n",
    "  loss=\"categorical_crossentropy\",\n",
    "  metrics=[CategoricalAccuracy()],\n",
    ")\n",
    "\n",
    "model_2.fit(\n",
    "  train_dataset,\n",
    "  validation_data=valid_dataset,\n",
    "  epochs=n_epochs,\n",
    "  verbose=1,\n",
    "  callbacks=[callback_early_stopping]\n",
    ")\n",
    "\n",
    "test_out = model_2(x_test).numpy()\n",
    "accuracy_test = np.mean(test_out.argmax(axis=1) == y_test)\n",
    "\n",
    "res_accuracy.append(accuracy_test)\n",
    "\n",
    "print()\n",
    "print(f\"Accuracy test data: layer 2 - {accuracy_test.round(4)}\" )\n",
    "print()"
   ]
  },
  {
   "cell_type": "code",
   "execution_count": 46,
   "id": "6d6b06b5",
   "metadata": {},
   "outputs": [
    {
     "name": "stdout",
     "output_type": "stream",
     "text": [
      "Epoch 1/20\n",
      "188/188 [==============================] - 8s 38ms/step - loss: 0.5218 - categorical_accuracy: 0.8075 - val_loss: 0.3977 - val_categorical_accuracy: 0.8559\n",
      "Epoch 2/20\n",
      "188/188 [==============================] - 7s 39ms/step - loss: 0.3590 - categorical_accuracy: 0.8684 - val_loss: 0.3620 - val_categorical_accuracy: 0.8678\n",
      "Epoch 3/20\n",
      "188/188 [==============================] - 8s 40ms/step - loss: 0.3156 - categorical_accuracy: 0.8834 - val_loss: 0.3390 - val_categorical_accuracy: 0.8735\n",
      "Epoch 4/20\n",
      "188/188 [==============================] - 7s 37ms/step - loss: 0.2953 - categorical_accuracy: 0.8881 - val_loss: 0.3402 - val_categorical_accuracy: 0.8729\n",
      "Epoch 5/20\n",
      "188/188 [==============================] - 7s 37ms/step - loss: 0.2729 - categorical_accuracy: 0.8969 - val_loss: 0.3162 - val_categorical_accuracy: 0.8843\n",
      "Epoch 6/20\n",
      "188/188 [==============================] - 7s 37ms/step - loss: 0.2559 - categorical_accuracy: 0.9028 - val_loss: 0.3209 - val_categorical_accuracy: 0.8838\n",
      "Epoch 7/20\n",
      "188/188 [==============================] - 7s 37ms/step - loss: 0.2449 - categorical_accuracy: 0.9069 - val_loss: 0.3262 - val_categorical_accuracy: 0.8851\n",
      "Epoch 7: early stopping\n",
      "\n",
      "Accuracy test data: layer 2 - 0.8791\n",
      "\n"
     ]
    }
   ],
   "source": [
    "model_3 = Sequential(\n",
    "    [\n",
    "        Dense(1024, activation=\"relu\", input_shape=(num_features,)),\n",
    "        Dense(1024, activation=\"relu\"),\n",
    "        Dense(1024, activation=\"relu\"),\n",
    "        Dense(10, activation=\"softmax\"),\n",
    "    ]\n",
    ")\n",
    "\n",
    "model_3.compile(\n",
    "  optimizer=Adam(learning_rate=learning_rate),\n",
    "  loss=\"categorical_crossentropy\",\n",
    "  metrics=[CategoricalAccuracy()],\n",
    ")\n",
    "\n",
    "model_3.fit(\n",
    "  train_dataset,\n",
    "  validation_data=valid_dataset,\n",
    "  epochs=n_epochs,\n",
    "  verbose=1,\n",
    "  callbacks=[callback_early_stopping]\n",
    ")\n",
    "\n",
    "test_out = model_3(x_test).numpy()\n",
    "accuracy_test = np.mean(test_out.argmax(axis=1) == y_test)\n",
    "\n",
    "res_accuracy.append(accuracy_test)\n",
    "\n",
    "print()\n",
    "print(f\"Accuracy test data: layer 3 - {accuracy_test.round(4)}\" )\n",
    "print()"
   ]
  },
  {
   "cell_type": "code",
   "execution_count": 50,
   "id": "32bc7aff",
   "metadata": {},
   "outputs": [
    {
     "name": "stdout",
     "output_type": "stream",
     "text": [
      "Epoch 1/20\n",
      "188/188 [==============================] - 10s 49ms/step - loss: 0.5235 - categorical_accuracy: 0.8080 - val_loss: 0.4071 - val_categorical_accuracy: 0.8505\n",
      "Epoch 2/20\n",
      "188/188 [==============================] - 9s 49ms/step - loss: 0.3660 - categorical_accuracy: 0.8656 - val_loss: 0.3694 - val_categorical_accuracy: 0.8652\n",
      "Epoch 3/20\n",
      "188/188 [==============================] - 10s 51ms/step - loss: 0.3237 - categorical_accuracy: 0.8799 - val_loss: 0.3403 - val_categorical_accuracy: 0.8756\n",
      "Epoch 4/20\n",
      "188/188 [==============================] - 10s 54ms/step - loss: 0.2977 - categorical_accuracy: 0.8907 - val_loss: 0.3369 - val_categorical_accuracy: 0.8785\n",
      "Epoch 5/20\n",
      "188/188 [==============================] - 9s 50ms/step - loss: 0.2795 - categorical_accuracy: 0.8956 - val_loss: 0.3421 - val_categorical_accuracy: 0.8758\n",
      "Epoch 6/20\n",
      "188/188 [==============================] - 10s 51ms/step - loss: 0.2639 - categorical_accuracy: 0.9013 - val_loss: 0.3230 - val_categorical_accuracy: 0.8808\n",
      "Epoch 7/20\n",
      "188/188 [==============================] - 10s 51ms/step - loss: 0.2465 - categorical_accuracy: 0.9069 - val_loss: 0.3366 - val_categorical_accuracy: 0.8824\n",
      "Epoch 8/20\n",
      "188/188 [==============================] - 10s 52ms/step - loss: 0.2418 - categorical_accuracy: 0.9085 - val_loss: 0.3054 - val_categorical_accuracy: 0.8943\n",
      "Epoch 9/20\n",
      "188/188 [==============================] - 10s 51ms/step - loss: 0.2271 - categorical_accuracy: 0.9146 - val_loss: 0.3070 - val_categorical_accuracy: 0.8908\n",
      "Epoch 10/20\n",
      "188/188 [==============================] - 10s 52ms/step - loss: 0.2215 - categorical_accuracy: 0.9150 - val_loss: 0.3365 - val_categorical_accuracy: 0.8866\n",
      "Epoch 10: early stopping\n",
      "\n",
      "Accuracy test data: layer 3 - 0.8826\n",
      "\n"
     ]
    }
   ],
   "source": [
    "model_4 = Sequential(\n",
    "    [\n",
    "        Dense(1024, activation=\"relu\", input_shape=(num_features,)),\n",
    "        Dense(1024, activation=\"relu\"),\n",
    "        Dense(1024, activation=\"relu\"),\n",
    "        Dense(1024, activation=\"relu\"),\n",
    "        Dense(10, activation=\"softmax\"),\n",
    "    ]\n",
    ")\n",
    "\n",
    "model_4.compile(\n",
    "  optimizer=Adam(learning_rate=learning_rate),\n",
    "  loss=\"categorical_crossentropy\",\n",
    "  metrics=[CategoricalAccuracy()],\n",
    ")\n",
    "\n",
    "model_4.fit(\n",
    "  train_dataset,\n",
    "  validation_data=valid_dataset,\n",
    "  epochs=n_epochs,\n",
    "  verbose=1,\n",
    "  callbacks=[callback_early_stopping]\n",
    ")\n",
    "\n",
    "test_out = model_4(x_test).numpy()\n",
    "accuracy_test = np.mean(test_out.argmax(axis=1) == y_test)\n",
    "\n",
    "res_accuracy.append(accuracy_test)\n",
    "\n",
    "print()\n",
    "print(f\"Accuracy test data: layer 3 - {accuracy_test.round(4)}\" )\n",
    "print()"
   ]
  },
  {
   "cell_type": "code",
   "execution_count": 51,
   "id": "05b7f670",
   "metadata": {},
   "outputs": [
    {
     "data": {
      "text/plain": [
       "[0.8755, 0.879, 0.8791, 0.8826]"
      ]
     },
     "execution_count": 51,
     "metadata": {},
     "output_type": "execute_result"
    }
   ],
   "source": [
    "res_accuracy"
   ]
  },
  {
   "cell_type": "code",
   "execution_count": 52,
   "id": "51510b2f",
   "metadata": {},
   "outputs": [
    {
     "data": {
      "text/plain": [
       "4"
      ]
     },
     "execution_count": 52,
     "metadata": {},
     "output_type": "execute_result"
    }
   ],
   "source": [
    "# the best number of layers\n",
    "layers[res_accuracy.index(max(res_accuracy))]"
   ]
  },
  {
   "cell_type": "markdown",
   "id": "266bfd2a",
   "metadata": {},
   "source": [
    "Mean number of layers with the best accuracy is 4 but from 1 to 4 number of layers too small different. Model with 4 or more layers become overfit."
   ]
  },
  {
   "cell_type": "code",
   "execution_count": 53,
   "id": "eee1338d",
   "metadata": {},
   "outputs": [],
   "source": [
    "# Test number of units.  learning_rate = 0.001, n_epochs = 10, batch_size = 256, layers = 3\n",
    "train_dataset = Dataset(x_train, y_train, shuffle=True, batch_size=256)\n",
    "valid_dataset = Dataset(x_valid, y_valid, shuffle=False, batch_size=256)"
   ]
  },
  {
   "cell_type": "code",
   "execution_count": 54,
   "id": "be86b578",
   "metadata": {},
   "outputs": [],
   "source": [
    "learning_rate = 0.001\n",
    "layers = 2\n",
    "n_epochs = 20\n",
    "batch_size = 256\n",
    "units = [256, 512, 1024, 2048, 4096] #"
   ]
  },
  {
   "cell_type": "code",
   "execution_count": 56,
   "id": "8f3a651a",
   "metadata": {
    "scrolled": false
   },
   "outputs": [
    {
     "name": "stdout",
     "output_type": "stream",
     "text": [
      "Epoch 1/20\n",
      "188/188 [==============================] - 2s 8ms/step - loss: 0.5722 - categorical_accuracy: 0.7977 - val_loss: 0.4527 - val_categorical_accuracy: 0.8357\n",
      "Epoch 2/20\n",
      "188/188 [==============================] - 1s 8ms/step - loss: 0.3914 - categorical_accuracy: 0.8594 - val_loss: 0.3987 - val_categorical_accuracy: 0.8528\n",
      "Epoch 3/20\n",
      "188/188 [==============================] - 1s 8ms/step - loss: 0.3453 - categorical_accuracy: 0.8760 - val_loss: 0.3524 - val_categorical_accuracy: 0.8728\n",
      "Epoch 4/20\n",
      "188/188 [==============================] - 1s 8ms/step - loss: 0.3164 - categorical_accuracy: 0.8849 - val_loss: 0.3742 - val_categorical_accuracy: 0.8627\n",
      "Epoch 5/20\n",
      "188/188 [==============================] - 1s 8ms/step - loss: 0.2962 - categorical_accuracy: 0.8917 - val_loss: 0.3324 - val_categorical_accuracy: 0.8771\n",
      "Epoch 6/20\n",
      "188/188 [==============================] - 1s 8ms/step - loss: 0.2789 - categorical_accuracy: 0.8961 - val_loss: 0.3272 - val_categorical_accuracy: 0.8777\n",
      "Epoch 7/20\n",
      "188/188 [==============================] - 1s 8ms/step - loss: 0.2659 - categorical_accuracy: 0.9019 - val_loss: 0.3223 - val_categorical_accuracy: 0.8812\n",
      "Epoch 8/20\n",
      "188/188 [==============================] - 1s 8ms/step - loss: 0.2546 - categorical_accuracy: 0.9064 - val_loss: 0.3155 - val_categorical_accuracy: 0.8838\n",
      "Epoch 9/20\n",
      "188/188 [==============================] - 1s 8ms/step - loss: 0.2409 - categorical_accuracy: 0.9116 - val_loss: 0.3243 - val_categorical_accuracy: 0.8833\n",
      "Epoch 10/20\n",
      "188/188 [==============================] - 2s 8ms/step - loss: 0.2339 - categorical_accuracy: 0.9131 - val_loss: 0.3109 - val_categorical_accuracy: 0.8881\n",
      "Epoch 11/20\n",
      "188/188 [==============================] - 2s 8ms/step - loss: 0.2284 - categorical_accuracy: 0.9150 - val_loss: 0.3218 - val_categorical_accuracy: 0.8892\n",
      "Epoch 12/20\n",
      "188/188 [==============================] - 1s 7ms/step - loss: 0.2147 - categorical_accuracy: 0.9196 - val_loss: 0.3072 - val_categorical_accuracy: 0.8912\n",
      "Epoch 13/20\n",
      "188/188 [==============================] - 1s 8ms/step - loss: 0.2075 - categorical_accuracy: 0.9229 - val_loss: 0.3117 - val_categorical_accuracy: 0.8873\n",
      "Epoch 14/20\n",
      "188/188 [==============================] - 1s 8ms/step - loss: 0.2003 - categorical_accuracy: 0.9241 - val_loss: 0.3107 - val_categorical_accuracy: 0.8889\n",
      "Epoch 14: early stopping\n",
      "\n",
      "Accuracy test data: units 256 0.8858\n",
      "\n",
      "Epoch 1/20\n",
      "188/188 [==============================] - 3s 12ms/step - loss: 0.5393 - categorical_accuracy: 0.8083 - val_loss: 0.4411 - val_categorical_accuracy: 0.8433\n",
      "Epoch 2/20\n",
      "188/188 [==============================] - 2s 12ms/step - loss: 0.3722 - categorical_accuracy: 0.8661 - val_loss: 0.3750 - val_categorical_accuracy: 0.8628\n",
      "Epoch 3/20\n",
      "188/188 [==============================] - 2s 12ms/step - loss: 0.3279 - categorical_accuracy: 0.8789 - val_loss: 0.3504 - val_categorical_accuracy: 0.8716\n",
      "Epoch 4/20\n",
      "188/188 [==============================] - 2s 12ms/step - loss: 0.2995 - categorical_accuracy: 0.8891 - val_loss: 0.3336 - val_categorical_accuracy: 0.8773\n",
      "Epoch 5/20\n",
      "188/188 [==============================] - 3s 13ms/step - loss: 0.2792 - categorical_accuracy: 0.8974 - val_loss: 0.3319 - val_categorical_accuracy: 0.8796\n",
      "Epoch 6/20\n",
      "188/188 [==============================] - 2s 13ms/step - loss: 0.2645 - categorical_accuracy: 0.9003 - val_loss: 0.3276 - val_categorical_accuracy: 0.8813\n",
      "Epoch 7/20\n",
      "188/188 [==============================] - 2s 13ms/step - loss: 0.2481 - categorical_accuracy: 0.9073 - val_loss: 0.3257 - val_categorical_accuracy: 0.8811\n",
      "Epoch 8/20\n",
      "188/188 [==============================] - 2s 13ms/step - loss: 0.2358 - categorical_accuracy: 0.9114 - val_loss: 0.3205 - val_categorical_accuracy: 0.8844\n",
      "Epoch 9/20\n",
      "188/188 [==============================] - 2s 13ms/step - loss: 0.2308 - categorical_accuracy: 0.9137 - val_loss: 0.3413 - val_categorical_accuracy: 0.8792\n",
      "Epoch 10/20\n",
      "188/188 [==============================] - 2s 13ms/step - loss: 0.2178 - categorical_accuracy: 0.9172 - val_loss: 0.3047 - val_categorical_accuracy: 0.8941\n",
      "Epoch 11/20\n",
      "188/188 [==============================] - 2s 13ms/step - loss: 0.2048 - categorical_accuracy: 0.9224 - val_loss: 0.3298 - val_categorical_accuracy: 0.8850\n",
      "Epoch 12/20\n",
      "188/188 [==============================] - 2s 12ms/step - loss: 0.2013 - categorical_accuracy: 0.9243 - val_loss: 0.3116 - val_categorical_accuracy: 0.8930\n",
      "Epoch 12: early stopping\n",
      "\n",
      "Accuracy test data: units 512 0.8884\n",
      "\n",
      "Epoch 1/20\n",
      "188/188 [==============================] - 6s 28ms/step - loss: 0.5124 - categorical_accuracy: 0.8136 - val_loss: 0.4367 - val_categorical_accuracy: 0.8405\n",
      "Epoch 2/20\n",
      "188/188 [==============================] - 5s 26ms/step - loss: 0.3584 - categorical_accuracy: 0.8692 - val_loss: 0.3612 - val_categorical_accuracy: 0.8655\n",
      "Epoch 3/20\n",
      "188/188 [==============================] - 5s 26ms/step - loss: 0.3172 - categorical_accuracy: 0.8830 - val_loss: 0.3598 - val_categorical_accuracy: 0.8683\n",
      "Epoch 4/20\n",
      "188/188 [==============================] - 5s 26ms/step - loss: 0.2857 - categorical_accuracy: 0.8949 - val_loss: 0.3302 - val_categorical_accuracy: 0.8768\n",
      "Epoch 5/20\n",
      "188/188 [==============================] - 5s 26ms/step - loss: 0.2764 - categorical_accuracy: 0.8965 - val_loss: 0.3255 - val_categorical_accuracy: 0.8836\n",
      "Epoch 6/20\n",
      "188/188 [==============================] - 5s 26ms/step - loss: 0.2590 - categorical_accuracy: 0.9038 - val_loss: 0.3515 - val_categorical_accuracy: 0.8727\n",
      "Epoch 7/20\n",
      "188/188 [==============================] - 5s 26ms/step - loss: 0.2459 - categorical_accuracy: 0.9076 - val_loss: 0.3526 - val_categorical_accuracy: 0.8712\n",
      "Epoch 7: early stopping\n",
      "\n",
      "Accuracy test data: units 1024 0.8676\n",
      "\n",
      "Epoch 1/20\n",
      "188/188 [==============================] - 17s 85ms/step - loss: 0.5029 - categorical_accuracy: 0.8187 - val_loss: 0.3839 - val_categorical_accuracy: 0.8612\n",
      "Epoch 2/20\n",
      "188/188 [==============================] - 15s 82ms/step - loss: 0.3584 - categorical_accuracy: 0.8678 - val_loss: 0.3599 - val_categorical_accuracy: 0.8681\n",
      "Epoch 3/20\n",
      "188/188 [==============================] - 15s 82ms/step - loss: 0.3140 - categorical_accuracy: 0.8838 - val_loss: 0.3614 - val_categorical_accuracy: 0.8662\n",
      "Epoch 4/20\n",
      "188/188 [==============================] - 16s 83ms/step - loss: 0.2924 - categorical_accuracy: 0.8900 - val_loss: 0.3270 - val_categorical_accuracy: 0.8755\n",
      "Epoch 5/20\n",
      "188/188 [==============================] - 16s 83ms/step - loss: 0.2682 - categorical_accuracy: 0.9006 - val_loss: 0.3222 - val_categorical_accuracy: 0.8812\n",
      "Epoch 6/20\n",
      "188/188 [==============================] - 16s 87ms/step - loss: 0.2583 - categorical_accuracy: 0.9025 - val_loss: 0.3394 - val_categorical_accuracy: 0.8751\n",
      "Epoch 7/20\n",
      "188/188 [==============================] - 16s 83ms/step - loss: 0.2469 - categorical_accuracy: 0.9067 - val_loss: 0.3139 - val_categorical_accuracy: 0.8865\n",
      "Epoch 8/20\n",
      "188/188 [==============================] - 16s 83ms/step - loss: 0.2351 - categorical_accuracy: 0.9113 - val_loss: 0.3186 - val_categorical_accuracy: 0.8826\n",
      "Epoch 9/20\n",
      "188/188 [==============================] - 16s 84ms/step - loss: 0.2213 - categorical_accuracy: 0.9167 - val_loss: 0.3319 - val_categorical_accuracy: 0.8828\n",
      "Epoch 9: early stopping\n",
      "\n",
      "Accuracy test data: units 2048 0.8788\n",
      "\n",
      "Epoch 1/20\n",
      "188/188 [==============================] - 67s 353ms/step - loss: 0.5440 - categorical_accuracy: 0.8091 - val_loss: 0.3918 - val_categorical_accuracy: 0.8548\n",
      "Epoch 2/20\n",
      "188/188 [==============================] - 65s 345ms/step - loss: 0.3579 - categorical_accuracy: 0.8690 - val_loss: 0.3858 - val_categorical_accuracy: 0.8578\n",
      "Epoch 3/20\n",
      "188/188 [==============================] - 63s 334ms/step - loss: 0.3233 - categorical_accuracy: 0.8823 - val_loss: 0.3361 - val_categorical_accuracy: 0.8764\n",
      "Epoch 4/20\n",
      "188/188 [==============================] - 65s 347ms/step - loss: 0.2927 - categorical_accuracy: 0.8905 - val_loss: 0.3205 - val_categorical_accuracy: 0.8846\n",
      "Epoch 5/20\n",
      "188/188 [==============================] - 62s 332ms/step - loss: 0.2765 - categorical_accuracy: 0.8976 - val_loss: 0.3288 - val_categorical_accuracy: 0.8825\n",
      "Epoch 6/20\n",
      "188/188 [==============================] - 63s 334ms/step - loss: 0.2642 - categorical_accuracy: 0.9011 - val_loss: 0.3140 - val_categorical_accuracy: 0.8832\n",
      "Epoch 7/20\n",
      "188/188 [==============================] - 64s 341ms/step - loss: 0.2492 - categorical_accuracy: 0.9062 - val_loss: 0.3187 - val_categorical_accuracy: 0.8892\n",
      "Epoch 8/20\n",
      "188/188 [==============================] - 62s 330ms/step - loss: 0.2365 - categorical_accuracy: 0.9107 - val_loss: 0.3388 - val_categorical_accuracy: 0.8793\n",
      "Epoch 8: early stopping\n",
      "\n",
      "Accuracy test data: units 4096 0.8714\n",
      "\n"
     ]
    }
   ],
   "source": [
    "res_accuracy = []\n",
    "for n_units in units:\n",
    "\n",
    "  conf_dense = [\n",
    "        Dense(n_units, activation=\"relu\", input_shape=(num_features,)),\n",
    "        Dense(n_units, activation=\"relu\"),\n",
    "        Dense(10, activation=\"softmax\"),\n",
    "    ]\n",
    "\n",
    "  model = Sequential(conf_dense)\n",
    "\n",
    "  model.compile(\n",
    "      optimizer=AdamW(learning_rate=learning_rate),\n",
    "      loss=\"categorical_crossentropy\",\n",
    "      metrics=[CategoricalAccuracy()],\n",
    "  )\n",
    "\n",
    "  model.fit(\n",
    "      train_dataset,\n",
    "      validation_data=valid_dataset,\n",
    "      epochs=n_epochs,\n",
    "      verbose=1,\n",
    "      callbacks=[callback_early_stopping]\n",
    "  )\n",
    "\n",
    "  test_out = model(x_test).numpy()\n",
    "  accuracy_test = np.mean(test_out.argmax(axis=1) == y_test)\n",
    "\n",
    "  res_accuracy.append(accuracy_test)\n",
    "  print()\n",
    "  print(f\"Accuracy test data: units {n_units} {accuracy_test.round(4)}\" )\n",
    "  print()"
   ]
  },
  {
   "cell_type": "code",
   "execution_count": 57,
   "id": "34c9e329",
   "metadata": {},
   "outputs": [
    {
     "data": {
      "text/plain": [
       "512"
      ]
     },
     "execution_count": 57,
     "metadata": {},
     "output_type": "execute_result"
    }
   ],
   "source": [
    "# the best number of units\n",
    "units[res_accuracy.index(max(res_accuracy))]"
   ]
  },
  {
   "cell_type": "markdown",
   "id": "d3ff2d29",
   "metadata": {},
   "source": [
    "Number of units with the best accuracy is 512 but 256 and 1024 also has good accuracy. Model 4096 or more layers become overfit and increase time from 2 to 65 seconds."
   ]
  },
  {
   "cell_type": "code",
   "execution_count": 58,
   "id": "0b16bf90",
   "metadata": {},
   "outputs": [],
   "source": [
    "# Test activation function.\n",
    "train_dataset = Dataset(x_train, y_train, shuffle=True, batch_size=256)\n",
    "valid_dataset = Dataset(x_valid, y_valid, shuffle=False, batch_size=256)"
   ]
  },
  {
   "cell_type": "code",
   "execution_count": 69,
   "id": "97f093c9",
   "metadata": {},
   "outputs": [],
   "source": [
    "learning_rate = 0.001\n",
    "n_units = 1024\n",
    "n_epochs = 20\n",
    "batch_size = 256\n",
    "layers = 2\n",
    "activate_funcions = [\"relu\", \"sigmoid\", \"tanh\"]"
   ]
  },
  {
   "cell_type": "code",
   "execution_count": 70,
   "id": "d4724185",
   "metadata": {},
   "outputs": [
    {
     "name": "stdout",
     "output_type": "stream",
     "text": [
      "Epoch 1/20\n",
      "188/188 [==============================] - 5s 26ms/step - loss: 0.5021 - categorical_accuracy: 0.8213 - val_loss: 0.3859 - val_categorical_accuracy: 0.8605\n",
      "Epoch 2/20\n",
      "188/188 [==============================] - 5s 25ms/step - loss: 0.3588 - categorical_accuracy: 0.8699 - val_loss: 0.3638 - val_categorical_accuracy: 0.8682\n",
      "Epoch 3/20\n",
      "188/188 [==============================] - 5s 25ms/step - loss: 0.3198 - categorical_accuracy: 0.8825 - val_loss: 0.3404 - val_categorical_accuracy: 0.8743\n",
      "Epoch 4/20\n",
      "188/188 [==============================] - 5s 25ms/step - loss: 0.2945 - categorical_accuracy: 0.8913 - val_loss: 0.3249 - val_categorical_accuracy: 0.8813\n",
      "Epoch 5/20\n",
      "188/188 [==============================] - 5s 25ms/step - loss: 0.2786 - categorical_accuracy: 0.8953 - val_loss: 0.3439 - val_categorical_accuracy: 0.8736\n",
      "Epoch 6/20\n",
      "188/188 [==============================] - 5s 26ms/step - loss: 0.2586 - categorical_accuracy: 0.9039 - val_loss: 0.3290 - val_categorical_accuracy: 0.8798\n",
      "Epoch 6: early stopping\n",
      "\n",
      "Accuracy test data: func relu 0.8733\n",
      "\n",
      "Epoch 1/20\n",
      "188/188 [==============================] - 6s 30ms/step - loss: 0.7765 - categorical_accuracy: 0.7271 - val_loss: 0.5525 - val_categorical_accuracy: 0.7957\n",
      "Epoch 2/20\n",
      "188/188 [==============================] - 5s 29ms/step - loss: 0.4487 - categorical_accuracy: 0.8383 - val_loss: 0.4629 - val_categorical_accuracy: 0.8296\n",
      "Epoch 3/20\n",
      "188/188 [==============================] - 5s 28ms/step - loss: 0.4062 - categorical_accuracy: 0.8533 - val_loss: 0.4028 - val_categorical_accuracy: 0.8555\n",
      "Epoch 4/20\n",
      "188/188 [==============================] - 5s 26ms/step - loss: 0.3804 - categorical_accuracy: 0.8619 - val_loss: 0.3923 - val_categorical_accuracy: 0.8587\n",
      "Epoch 5/20\n",
      "188/188 [==============================] - 5s 26ms/step - loss: 0.3605 - categorical_accuracy: 0.8681 - val_loss: 0.3705 - val_categorical_accuracy: 0.8662\n",
      "Epoch 6/20\n",
      "188/188 [==============================] - 5s 26ms/step - loss: 0.3442 - categorical_accuracy: 0.8765 - val_loss: 0.4040 - val_categorical_accuracy: 0.8533\n",
      "Epoch 7/20\n",
      "188/188 [==============================] - 5s 26ms/step - loss: 0.3290 - categorical_accuracy: 0.8801 - val_loss: 0.3777 - val_categorical_accuracy: 0.8637\n",
      "Epoch 7: early stopping\n",
      "\n",
      "Accuracy test data: func sigmoid 0.8583\n",
      "\n",
      "Epoch 1/20\n",
      "188/188 [==============================] - 6s 27ms/step - loss: 0.5728 - categorical_accuracy: 0.7982 - val_loss: 0.4468 - val_categorical_accuracy: 0.8418\n",
      "Epoch 2/20\n",
      "188/188 [==============================] - 5s 27ms/step - loss: 0.4079 - categorical_accuracy: 0.8535 - val_loss: 0.4375 - val_categorical_accuracy: 0.8380\n",
      "Epoch 3/20\n",
      "188/188 [==============================] - 5s 25ms/step - loss: 0.3594 - categorical_accuracy: 0.8687 - val_loss: 0.4116 - val_categorical_accuracy: 0.8454\n",
      "Epoch 4/20\n",
      "188/188 [==============================] - 5s 25ms/step - loss: 0.3334 - categorical_accuracy: 0.8762 - val_loss: 0.3601 - val_categorical_accuracy: 0.8653\n",
      "Epoch 5/20\n",
      "188/188 [==============================] - 5s 25ms/step - loss: 0.3105 - categorical_accuracy: 0.8848 - val_loss: 0.3523 - val_categorical_accuracy: 0.8684\n",
      "Epoch 6/20\n",
      "188/188 [==============================] - 5s 26ms/step - loss: 0.2907 - categorical_accuracy: 0.8921 - val_loss: 0.3478 - val_categorical_accuracy: 0.8729\n",
      "Epoch 7/20\n",
      "188/188 [==============================] - 5s 25ms/step - loss: 0.2755 - categorical_accuracy: 0.8980 - val_loss: 0.3267 - val_categorical_accuracy: 0.8793\n",
      "Epoch 8/20\n",
      "188/188 [==============================] - 5s 25ms/step - loss: 0.2604 - categorical_accuracy: 0.9020 - val_loss: 0.3137 - val_categorical_accuracy: 0.8854\n",
      "Epoch 9/20\n",
      "188/188 [==============================] - 5s 26ms/step - loss: 0.2394 - categorical_accuracy: 0.9109 - val_loss: 0.3074 - val_categorical_accuracy: 0.8878\n",
      "Epoch 10/20\n",
      "188/188 [==============================] - 5s 25ms/step - loss: 0.2355 - categorical_accuracy: 0.9114 - val_loss: 0.3149 - val_categorical_accuracy: 0.8886\n",
      "Epoch 11/20\n",
      "188/188 [==============================] - 5s 25ms/step - loss: 0.2208 - categorical_accuracy: 0.9170 - val_loss: 0.3289 - val_categorical_accuracy: 0.8813\n",
      "Epoch 11: early stopping\n",
      "\n",
      "Accuracy test data: func tanh 0.8806\n",
      "\n"
     ]
    }
   ],
   "source": [
    "res_accuracy = []\n",
    "for act in activate_funcions:\n",
    "\n",
    "  conf_dense = [\n",
    "        Dense(n_units, activation=act, input_shape=(num_features,)),\n",
    "        Dense(n_units, activation=act),\n",
    "        Dense(10, activation=\"softmax\"),\n",
    "    ]\n",
    "\n",
    "  model = Sequential(conf_dense)\n",
    "\n",
    "  model.compile(\n",
    "      optimizer=Adam(learning_rate=learning_rate),\n",
    "      loss=\"categorical_crossentropy\",\n",
    "      metrics=[CategoricalAccuracy()],\n",
    "  )\n",
    "\n",
    "  model.fit(\n",
    "      train_dataset,\n",
    "      validation_data=valid_dataset,\n",
    "      epochs=n_epochs,\n",
    "      verbose=1,\n",
    "      callbacks=[callback_early_stopping]\n",
    "  )\n",
    "\n",
    "  test_out = model(x_test).numpy()\n",
    "  accuracy_test = np.mean(test_out.argmax(axis=1) == y_test)\n",
    "\n",
    "  res_accuracy.append(accuracy_test)\n",
    "  print()\n",
    "  print(f\"Accuracy test data: func {act} {accuracy_test.round(4)}\" )\n",
    "  print()"
   ]
  },
  {
   "cell_type": "code",
   "execution_count": 73,
   "id": "0b8e460e",
   "metadata": {},
   "outputs": [
    {
     "data": {
      "text/plain": [
       "[0.8733, 0.8583, 0.8806]"
      ]
     },
     "execution_count": 73,
     "metadata": {},
     "output_type": "execute_result"
    }
   ],
   "source": [
    "res_accuracy"
   ]
  },
  {
   "cell_type": "code",
   "execution_count": 71,
   "id": "1c49955d",
   "metadata": {},
   "outputs": [
    {
     "data": {
      "text/plain": [
       "'tanh'"
      ]
     },
     "execution_count": 71,
     "metadata": {},
     "output_type": "execute_result"
    }
   ],
   "source": [
    "# the best activate_funcions\n",
    "activate_funcions[res_accuracy.index(max(res_accuracy))]"
   ]
  },
  {
   "cell_type": "markdown",
   "id": "9b2dcede",
   "metadata": {},
   "source": [
    "The best activation function is tanh. relu also had good result"
   ]
  },
  {
   "cell_type": "code",
   "execution_count": 10,
   "id": "75ec87e7",
   "metadata": {},
   "outputs": [],
   "source": [
    "# Test batch size.\n",
    "learning_rate = 0.001\n",
    "n_units = 1024\n",
    "n_epochs = 20\n",
    "batch_sizes = [256, 512, 1024, 2048]\n",
    "layers = 2\n",
    "activate_funcion = \"tanh\""
   ]
  },
  {
   "cell_type": "code",
   "execution_count": 13,
   "id": "9c90c9ff",
   "metadata": {
    "scrolled": false
   },
   "outputs": [
    {
     "name": "stdout",
     "output_type": "stream",
     "text": [
      "Epoch 1/20\n",
      "188/188 [==============================] - 5s 26ms/step - loss: 0.5703 - categorical_accuracy: 0.8009 - val_loss: 0.4096 - val_categorical_accuracy: 0.8521\n",
      "Epoch 2/20\n",
      "188/188 [==============================] - 5s 25ms/step - loss: 0.4081 - categorical_accuracy: 0.8545 - val_loss: 0.3937 - val_categorical_accuracy: 0.8563\n",
      "Epoch 3/20\n",
      "188/188 [==============================] - 5s 24ms/step - loss: 0.3602 - categorical_accuracy: 0.8688 - val_loss: 0.3641 - val_categorical_accuracy: 0.8673\n",
      "Epoch 4/20\n",
      "188/188 [==============================] - 5s 24ms/step - loss: 0.3338 - categorical_accuracy: 0.8766 - val_loss: 0.3645 - val_categorical_accuracy: 0.8683\n",
      "Epoch 5/20\n",
      "188/188 [==============================] - 5s 24ms/step - loss: 0.3155 - categorical_accuracy: 0.8821 - val_loss: 0.3309 - val_categorical_accuracy: 0.8813\n",
      "Epoch 6/20\n",
      "188/188 [==============================] - 5s 24ms/step - loss: 0.2960 - categorical_accuracy: 0.8896 - val_loss: 0.3622 - val_categorical_accuracy: 0.8671\n",
      "Epoch 7/20\n",
      "188/188 [==============================] - 5s 24ms/step - loss: 0.2776 - categorical_accuracy: 0.8974 - val_loss: 0.3418 - val_categorical_accuracy: 0.8760\n",
      "Epoch 7: early stopping\n",
      "\n",
      "Accuracy test data: batch_size 256 0.8716\n",
      "\n",
      "Epoch 1/20\n",
      "94/94 [==============================] - 4s 39ms/step - loss: 0.6433 - categorical_accuracy: 0.7838 - val_loss: 0.4482 - val_categorical_accuracy: 0.8380\n",
      "Epoch 2/20\n",
      "94/94 [==============================] - 4s 37ms/step - loss: 0.4181 - categorical_accuracy: 0.8495 - val_loss: 0.4487 - val_categorical_accuracy: 0.8375\n",
      "Epoch 3/20\n",
      "94/94 [==============================] - 4s 38ms/step - loss: 0.3811 - categorical_accuracy: 0.8620 - val_loss: 0.4272 - val_categorical_accuracy: 0.8511\n",
      "Epoch 4/20\n",
      "94/94 [==============================] - 4s 37ms/step - loss: 0.3601 - categorical_accuracy: 0.8700 - val_loss: 0.3687 - val_categorical_accuracy: 0.8648\n",
      "Epoch 5/20\n",
      "94/94 [==============================] - 4s 37ms/step - loss: 0.3365 - categorical_accuracy: 0.8782 - val_loss: 0.3759 - val_categorical_accuracy: 0.8650\n",
      "Epoch 6/20\n",
      "94/94 [==============================] - 4s 37ms/step - loss: 0.3211 - categorical_accuracy: 0.8831 - val_loss: 0.3674 - val_categorical_accuracy: 0.8652\n",
      "Epoch 7/20\n",
      "94/94 [==============================] - 4s 37ms/step - loss: 0.3124 - categorical_accuracy: 0.8845 - val_loss: 0.3274 - val_categorical_accuracy: 0.8815\n",
      "Epoch 8/20\n",
      "94/94 [==============================] - 3s 37ms/step - loss: 0.2950 - categorical_accuracy: 0.8911 - val_loss: 0.3351 - val_categorical_accuracy: 0.8781\n",
      "Epoch 9/20\n",
      "94/94 [==============================] - 3s 37ms/step - loss: 0.2792 - categorical_accuracy: 0.8964 - val_loss: 0.3156 - val_categorical_accuracy: 0.8848\n",
      "Epoch 10/20\n",
      "94/94 [==============================] - 3s 37ms/step - loss: 0.2661 - categorical_accuracy: 0.9013 - val_loss: 0.3100 - val_categorical_accuracy: 0.8855\n",
      "Epoch 11/20\n",
      "94/94 [==============================] - 4s 37ms/step - loss: 0.2574 - categorical_accuracy: 0.9031 - val_loss: 0.3154 - val_categorical_accuracy: 0.8882\n",
      "Epoch 12/20\n",
      "94/94 [==============================] - 3s 37ms/step - loss: 0.2418 - categorical_accuracy: 0.9105 - val_loss: 0.3056 - val_categorical_accuracy: 0.8888\n",
      "Epoch 13/20\n",
      "94/94 [==============================] - 3s 37ms/step - loss: 0.2437 - categorical_accuracy: 0.9091 - val_loss: 0.3314 - val_categorical_accuracy: 0.8842\n",
      "Epoch 14/20\n",
      "94/94 [==============================] - 3s 37ms/step - loss: 0.2260 - categorical_accuracy: 0.9155 - val_loss: 0.3080 - val_categorical_accuracy: 0.8901\n",
      "Epoch 14: early stopping\n",
      "\n",
      "Accuracy test data: batch_size 512 0.8821\n",
      "\n",
      "Epoch 1/20\n",
      "47/47 [==============================] - 4s 67ms/step - loss: 0.8002 - categorical_accuracy: 0.7319 - val_loss: 0.4715 - val_categorical_accuracy: 0.8330\n",
      "Epoch 2/20\n",
      "47/47 [==============================] - 3s 64ms/step - loss: 0.4426 - categorical_accuracy: 0.8415 - val_loss: 0.4376 - val_categorical_accuracy: 0.8376\n",
      "Epoch 3/20\n",
      "47/47 [==============================] - 3s 64ms/step - loss: 0.4034 - categorical_accuracy: 0.8568 - val_loss: 0.4147 - val_categorical_accuracy: 0.8540\n",
      "Epoch 4/20\n",
      "47/47 [==============================] - 3s 63ms/step - loss: 0.3814 - categorical_accuracy: 0.8640 - val_loss: 0.4025 - val_categorical_accuracy: 0.8572\n",
      "Epoch 5/20\n",
      "47/47 [==============================] - 3s 65ms/step - loss: 0.3667 - categorical_accuracy: 0.8680 - val_loss: 0.3954 - val_categorical_accuracy: 0.8570\n",
      "Epoch 6/20\n",
      "47/47 [==============================] - 3s 62ms/step - loss: 0.3524 - categorical_accuracy: 0.8731 - val_loss: 0.3939 - val_categorical_accuracy: 0.8587\n",
      "Epoch 7/20\n",
      "47/47 [==============================] - 3s 62ms/step - loss: 0.3419 - categorical_accuracy: 0.8756 - val_loss: 0.3850 - val_categorical_accuracy: 0.8605\n",
      "Epoch 8/20\n",
      "47/47 [==============================] - 3s 65ms/step - loss: 0.3225 - categorical_accuracy: 0.8831 - val_loss: 0.3646 - val_categorical_accuracy: 0.8698\n",
      "Epoch 9/20\n",
      "47/47 [==============================] - 3s 64ms/step - loss: 0.3186 - categorical_accuracy: 0.8819 - val_loss: 0.3569 - val_categorical_accuracy: 0.8701\n",
      "Epoch 10/20\n",
      "47/47 [==============================] - 3s 63ms/step - loss: 0.3073 - categorical_accuracy: 0.8871 - val_loss: 0.3438 - val_categorical_accuracy: 0.8748\n",
      "Epoch 11/20\n",
      "47/47 [==============================] - 3s 64ms/step - loss: 0.2995 - categorical_accuracy: 0.8902 - val_loss: 0.3482 - val_categorical_accuracy: 0.8712\n",
      "Epoch 12/20\n",
      "47/47 [==============================] - 3s 65ms/step - loss: 0.2846 - categorical_accuracy: 0.8946 - val_loss: 0.3460 - val_categorical_accuracy: 0.8791\n",
      "Epoch 12: early stopping\n",
      "\n",
      "Accuracy test data: batch_size 1024 0.8688\n",
      "\n",
      "Epoch 1/20\n",
      "24/24 [==============================] - 3s 122ms/step - loss: 1.1903 - categorical_accuracy: 0.6229 - val_loss: 0.6270 - val_categorical_accuracy: 0.7810\n",
      "Epoch 2/20\n",
      "24/24 [==============================] - 3s 114ms/step - loss: 0.5201 - categorical_accuracy: 0.8196 - val_loss: 0.4849 - val_categorical_accuracy: 0.8264\n",
      "Epoch 3/20\n",
      "24/24 [==============================] - 3s 115ms/step - loss: 0.4456 - categorical_accuracy: 0.8427 - val_loss: 0.4413 - val_categorical_accuracy: 0.8444\n",
      "Epoch 4/20\n",
      "24/24 [==============================] - 3s 116ms/step - loss: 0.4159 - categorical_accuracy: 0.8535 - val_loss: 0.4208 - val_categorical_accuracy: 0.8508\n",
      "Epoch 5/20\n",
      "24/24 [==============================] - 3s 116ms/step - loss: 0.4072 - categorical_accuracy: 0.8547 - val_loss: 0.4149 - val_categorical_accuracy: 0.8505\n",
      "Epoch 6/20\n",
      "24/24 [==============================] - 3s 115ms/step - loss: 0.3860 - categorical_accuracy: 0.8616 - val_loss: 0.4033 - val_categorical_accuracy: 0.8578\n",
      "Epoch 7/20\n",
      "24/24 [==============================] - 3s 117ms/step - loss: 0.3704 - categorical_accuracy: 0.8685 - val_loss: 0.3991 - val_categorical_accuracy: 0.8569\n",
      "Epoch 8/20\n",
      "24/24 [==============================] - 3s 114ms/step - loss: 0.3609 - categorical_accuracy: 0.8706 - val_loss: 0.3833 - val_categorical_accuracy: 0.8637\n",
      "Epoch 9/20\n",
      "24/24 [==============================] - 3s 117ms/step - loss: 0.3641 - categorical_accuracy: 0.8677 - val_loss: 0.4001 - val_categorical_accuracy: 0.8539\n",
      "Epoch 10/20\n",
      "24/24 [==============================] - 3s 123ms/step - loss: 0.3543 - categorical_accuracy: 0.8711 - val_loss: 0.3769 - val_categorical_accuracy: 0.8673\n",
      "Epoch 11/20\n",
      "24/24 [==============================] - 3s 114ms/step - loss: 0.3392 - categorical_accuracy: 0.8772 - val_loss: 0.3687 - val_categorical_accuracy: 0.8654\n",
      "Epoch 12/20\n",
      "24/24 [==============================] - 3s 113ms/step - loss: 0.3277 - categorical_accuracy: 0.8822 - val_loss: 0.3683 - val_categorical_accuracy: 0.8687\n",
      "Epoch 13/20\n",
      "24/24 [==============================] - 3s 113ms/step - loss: 0.3235 - categorical_accuracy: 0.8836 - val_loss: 0.3738 - val_categorical_accuracy: 0.8659\n",
      "Epoch 14/20\n",
      "24/24 [==============================] - 3s 113ms/step - loss: 0.3292 - categorical_accuracy: 0.8808 - val_loss: 0.3491 - val_categorical_accuracy: 0.8729\n",
      "Epoch 15/20\n",
      "24/24 [==============================] - 3s 113ms/step - loss: 0.3100 - categorical_accuracy: 0.8868 - val_loss: 0.3602 - val_categorical_accuracy: 0.8726\n",
      "Epoch 16/20\n",
      "24/24 [==============================] - 3s 114ms/step - loss: 0.3072 - categorical_accuracy: 0.8890 - val_loss: 0.3544 - val_categorical_accuracy: 0.8717\n",
      "Epoch 16: early stopping\n",
      "\n",
      "Accuracy test data: batch_size 2048 0.8667\n",
      "\n"
     ]
    }
   ],
   "source": [
    "res_accuracy = []\n",
    "for batch_s in batch_sizes:\n",
    "  train_dataset = Dataset(x_train, y_train, shuffle=True, batch_size=batch_s)\n",
    "  valid_dataset = Dataset(x_valid, y_valid, shuffle=False, batch_size=batch_s)\n",
    "\n",
    "  conf_dense = [\n",
    "        Dense(n_units, activation=activate_funcion, input_shape=(num_features,)),\n",
    "        Dense(n_units, activation=activate_funcion),\n",
    "        Dense(10, activation=\"softmax\"),\n",
    "    ]\n",
    "\n",
    "  model = Sequential(conf_dense)\n",
    "\n",
    "  model.compile(\n",
    "      optimizer=Adam(learning_rate=learning_rate),\n",
    "      loss=\"categorical_crossentropy\",\n",
    "      metrics=[CategoricalAccuracy()],\n",
    "  )\n",
    "\n",
    "  model.fit(\n",
    "      train_dataset,\n",
    "      validation_data=valid_dataset,\n",
    "      epochs=n_epochs,\n",
    "      verbose=1,\n",
    "      callbacks=[callback_early_stopping]\n",
    "  )\n",
    "\n",
    "  test_out = model(x_test).numpy()\n",
    "  accuracy_test = np.mean(test_out.argmax(axis=1) == y_test)\n",
    "\n",
    "  res_accuracy.append(accuracy_test)\n",
    "  print()\n",
    "  print(f\"Accuracy test data: batch_size {batch_s} {accuracy_test.round(4)}\" )\n",
    "  print()"
   ]
  },
  {
   "cell_type": "code",
   "execution_count": 14,
   "id": "b890d710",
   "metadata": {},
   "outputs": [
    {
     "data": {
      "text/plain": [
       "[0.8716, 0.8821, 0.8688, 0.8667]"
      ]
     },
     "execution_count": 14,
     "metadata": {},
     "output_type": "execute_result"
    }
   ],
   "source": [
    "res_accuracy"
   ]
  },
  {
   "cell_type": "code",
   "execution_count": 15,
   "id": "5531247d",
   "metadata": {},
   "outputs": [
    {
     "data": {
      "text/plain": [
       "512"
      ]
     },
     "execution_count": 15,
     "metadata": {},
     "output_type": "execute_result"
    }
   ],
   "source": [
    "# the best batch_size\n",
    "batch_sizes[res_accuracy.index(max(res_accuracy))]"
   ]
  },
  {
   "cell_type": "markdown",
   "id": "4b396564",
   "metadata": {},
   "source": [
    "The best batch_size is 512"
   ]
  },
  {
   "cell_type": "code",
   "execution_count": 18,
   "id": "1b30cad7",
   "metadata": {},
   "outputs": [],
   "source": [
    "# Test optimizer\n",
    "learning_rate = 0.001\n",
    "n_units = 1024\n",
    "n_epochs = 30\n",
    "batch_size = 512\n",
    "layers = 2\n",
    "activate_funcion = \"tanh\""
   ]
  },
  {
   "cell_type": "code",
   "execution_count": 19,
   "id": "9f09c02f",
   "metadata": {},
   "outputs": [],
   "source": [
    "train_dataset = Dataset(x_train, y_train, shuffle=True, batch_size=batch_size)\n",
    "valid_dataset = Dataset(x_valid, y_valid, shuffle=False, batch_size=batch_size)"
   ]
  },
  {
   "cell_type": "code",
   "execution_count": 20,
   "id": "c4671504",
   "metadata": {},
   "outputs": [
    {
     "name": "stderr",
     "output_type": "stream",
     "text": [
      "WARNING:absl:`lr` is deprecated in Keras optimizer, please use `learning_rate` or use the legacy optimizer, e.g.,tf.keras.optimizers.legacy.Adam.\n",
      "WARNING:absl:`lr` is deprecated in Keras optimizer, please use `learning_rate` or use the legacy optimizer, e.g.,tf.keras.optimizers.legacy.SGD.\n",
      "WARNING:absl:`lr` is deprecated in Keras optimizer, please use `learning_rate` or use the legacy optimizer, e.g.,tf.keras.optimizers.legacy.AdamW.\n",
      "WARNING:absl:`lr` is deprecated in Keras optimizer, please use `learning_rate` or use the legacy optimizer, e.g.,tf.keras.optimizers.legacy.Ftrl.\n"
     ]
    }
   ],
   "source": [
    "optimizers = [Adam(lr=learning_rate), SGD(lr=learning_rate), AdamW(lr=learning_rate), Ftrl(lr=learning_rate)]\n",
    "name_optimizers = [\"Adam\", \"SGD\", \"AdamW\", \"Ftrl\"]"
   ]
  },
  {
   "cell_type": "code",
   "execution_count": 21,
   "id": "430320bc",
   "metadata": {
    "scrolled": false
   },
   "outputs": [
    {
     "name": "stdout",
     "output_type": "stream",
     "text": [
      "Epoch 1/30\n",
      "94/94 [==============================] - 4s 43ms/step - loss: 0.6690 - categorical_accuracy: 0.7755 - val_loss: 0.4600 - val_categorical_accuracy: 0.8344\n",
      "Epoch 2/30\n",
      "94/94 [==============================] - 4s 43ms/step - loss: 0.4086 - categorical_accuracy: 0.8540 - val_loss: 0.4069 - val_categorical_accuracy: 0.8528\n",
      "Epoch 3/30\n",
      "94/94 [==============================] - 4s 43ms/step - loss: 0.3842 - categorical_accuracy: 0.8626 - val_loss: 0.3917 - val_categorical_accuracy: 0.8588\n",
      "Epoch 4/30\n",
      "94/94 [==============================] - 4s 43ms/step - loss: 0.3625 - categorical_accuracy: 0.8684 - val_loss: 0.3698 - val_categorical_accuracy: 0.8679\n",
      "Epoch 5/30\n",
      "94/94 [==============================] - 4s 41ms/step - loss: 0.3330 - categorical_accuracy: 0.8780 - val_loss: 0.3527 - val_categorical_accuracy: 0.8701\n",
      "Epoch 6/30\n",
      "94/94 [==============================] - 4s 44ms/step - loss: 0.3217 - categorical_accuracy: 0.8823 - val_loss: 0.3443 - val_categorical_accuracy: 0.8789\n",
      "Epoch 7/30\n",
      "94/94 [==============================] - 4s 42ms/step - loss: 0.2994 - categorical_accuracy: 0.8893 - val_loss: 0.3366 - val_categorical_accuracy: 0.8787\n",
      "Epoch 8/30\n",
      "94/94 [==============================] - 4s 38ms/step - loss: 0.2903 - categorical_accuracy: 0.8927 - val_loss: 0.3415 - val_categorical_accuracy: 0.8780\n",
      "Epoch 9/30\n",
      "94/94 [==============================] - 4s 39ms/step - loss: 0.2768 - categorical_accuracy: 0.8964 - val_loss: 0.3350 - val_categorical_accuracy: 0.8792\n",
      "Epoch 10/30\n",
      "94/94 [==============================] - 4s 40ms/step - loss: 0.2685 - categorical_accuracy: 0.9001 - val_loss: 0.3320 - val_categorical_accuracy: 0.8792\n",
      "Epoch 11/30\n",
      "94/94 [==============================] - 4s 43ms/step - loss: 0.2573 - categorical_accuracy: 0.9041 - val_loss: 0.3210 - val_categorical_accuracy: 0.8868\n",
      "Epoch 12/30\n",
      "94/94 [==============================] - 4s 42ms/step - loss: 0.2415 - categorical_accuracy: 0.9112 - val_loss: 0.3263 - val_categorical_accuracy: 0.8833\n",
      "Epoch 13/30\n",
      "94/94 [==============================] - 4s 39ms/step - loss: 0.2358 - categorical_accuracy: 0.9114 - val_loss: 0.3000 - val_categorical_accuracy: 0.8919\n",
      "Epoch 14/30\n",
      "94/94 [==============================] - 4s 39ms/step - loss: 0.2293 - categorical_accuracy: 0.9137 - val_loss: 0.3211 - val_categorical_accuracy: 0.8850\n",
      "Epoch 15/30\n",
      "94/94 [==============================] - 4s 42ms/step - loss: 0.2211 - categorical_accuracy: 0.9186 - val_loss: 0.3023 - val_categorical_accuracy: 0.8913\n",
      "Epoch 15: early stopping\n",
      "\n",
      "Accuracy test data: optimazer Adam 0.8789\n",
      "\n",
      "Epoch 1/30\n",
      "94/94 [==============================] - 4s 39ms/step - loss: 1.2563 - categorical_accuracy: 0.6276 - val_loss: 0.9024 - val_categorical_accuracy: 0.7131\n",
      "Epoch 2/30\n",
      "94/94 [==============================] - 4s 37ms/step - loss: 0.8034 - categorical_accuracy: 0.7458 - val_loss: 0.7460 - val_categorical_accuracy: 0.7588\n",
      "Epoch 3/30\n",
      "94/94 [==============================] - 4s 39ms/step - loss: 0.6988 - categorical_accuracy: 0.7754 - val_loss: 0.6752 - val_categorical_accuracy: 0.7803\n",
      "Epoch 4/30\n",
      "94/94 [==============================] - 4s 38ms/step - loss: 0.6430 - categorical_accuracy: 0.7908 - val_loss: 0.6314 - val_categorical_accuracy: 0.7933\n",
      "Epoch 5/30\n",
      "94/94 [==============================] - 4s 38ms/step - loss: 0.6060 - categorical_accuracy: 0.8018 - val_loss: 0.6012 - val_categorical_accuracy: 0.8008\n",
      "Epoch 6/30\n",
      "94/94 [==============================] - 4s 38ms/step - loss: 0.5791 - categorical_accuracy: 0.8099 - val_loss: 0.5776 - val_categorical_accuracy: 0.8087\n",
      "Epoch 7/30\n",
      "94/94 [==============================] - 4s 37ms/step - loss: 0.5585 - categorical_accuracy: 0.8144 - val_loss: 0.5629 - val_categorical_accuracy: 0.8115\n",
      "Epoch 8/30\n",
      "94/94 [==============================] - 3s 35ms/step - loss: 0.5422 - categorical_accuracy: 0.8191 - val_loss: 0.5469 - val_categorical_accuracy: 0.8168\n",
      "Epoch 9/30\n",
      "94/94 [==============================] - 3s 33ms/step - loss: 0.5288 - categorical_accuracy: 0.8221 - val_loss: 0.5352 - val_categorical_accuracy: 0.8177\n",
      "Epoch 10/30\n",
      "94/94 [==============================] - 3s 34ms/step - loss: 0.5175 - categorical_accuracy: 0.8249 - val_loss: 0.5245 - val_categorical_accuracy: 0.8221\n",
      "Epoch 11/30\n",
      "94/94 [==============================] - 3s 34ms/step - loss: 0.5075 - categorical_accuracy: 0.8274 - val_loss: 0.5158 - val_categorical_accuracy: 0.8226\n",
      "Epoch 12/30\n",
      "94/94 [==============================] - 3s 34ms/step - loss: 0.4995 - categorical_accuracy: 0.8295 - val_loss: 0.5084 - val_categorical_accuracy: 0.8263\n",
      "Epoch 13/30\n",
      "94/94 [==============================] - 3s 34ms/step - loss: 0.4921 - categorical_accuracy: 0.8318 - val_loss: 0.5012 - val_categorical_accuracy: 0.8274\n",
      "Epoch 14/30\n",
      "94/94 [==============================] - 3s 34ms/step - loss: 0.4854 - categorical_accuracy: 0.8342 - val_loss: 0.4956 - val_categorical_accuracy: 0.8288\n",
      "Epoch 15/30\n",
      "94/94 [==============================] - 3s 36ms/step - loss: 0.4795 - categorical_accuracy: 0.8347 - val_loss: 0.4911 - val_categorical_accuracy: 0.8307\n",
      "Epoch 16/30\n",
      "94/94 [==============================] - 3s 36ms/step - loss: 0.4743 - categorical_accuracy: 0.8375 - val_loss: 0.4860 - val_categorical_accuracy: 0.8313\n",
      "Epoch 17/30\n",
      "94/94 [==============================] - 3s 36ms/step - loss: 0.4697 - categorical_accuracy: 0.8387 - val_loss: 0.4826 - val_categorical_accuracy: 0.8312\n",
      "Epoch 18/30\n",
      "94/94 [==============================] - 4s 38ms/step - loss: 0.4650 - categorical_accuracy: 0.8410 - val_loss: 0.4792 - val_categorical_accuracy: 0.8324\n",
      "Epoch 19/30\n",
      "94/94 [==============================] - 4s 39ms/step - loss: 0.4610 - categorical_accuracy: 0.8415 - val_loss: 0.4751 - val_categorical_accuracy: 0.8331\n",
      "Epoch 20/30\n",
      "94/94 [==============================] - 4s 38ms/step - loss: 0.4570 - categorical_accuracy: 0.8428 - val_loss: 0.4726 - val_categorical_accuracy: 0.8338\n",
      "Epoch 21/30\n",
      "94/94 [==============================] - 3s 35ms/step - loss: 0.4536 - categorical_accuracy: 0.8438 - val_loss: 0.4693 - val_categorical_accuracy: 0.8339\n",
      "Epoch 22/30\n",
      "94/94 [==============================] - 3s 35ms/step - loss: 0.4504 - categorical_accuracy: 0.8446 - val_loss: 0.4656 - val_categorical_accuracy: 0.8355\n",
      "Epoch 23/30\n",
      "94/94 [==============================] - 3s 34ms/step - loss: 0.4474 - categorical_accuracy: 0.8465 - val_loss: 0.4630 - val_categorical_accuracy: 0.8363\n",
      "Epoch 24/30\n",
      "94/94 [==============================] - 3s 34ms/step - loss: 0.4443 - categorical_accuracy: 0.8469 - val_loss: 0.4611 - val_categorical_accuracy: 0.8357\n",
      "Epoch 25/30\n",
      "94/94 [==============================] - 3s 35ms/step - loss: 0.4418 - categorical_accuracy: 0.8479 - val_loss: 0.4582 - val_categorical_accuracy: 0.8367\n",
      "Epoch 26/30\n",
      "94/94 [==============================] - 4s 39ms/step - loss: 0.4393 - categorical_accuracy: 0.8485 - val_loss: 0.4572 - val_categorical_accuracy: 0.8384\n",
      "Epoch 27/30\n",
      "94/94 [==============================] - 3s 37ms/step - loss: 0.4367 - categorical_accuracy: 0.8493 - val_loss: 0.4556 - val_categorical_accuracy: 0.8386\n",
      "Epoch 28/30\n",
      "94/94 [==============================] - 4s 38ms/step - loss: 0.4345 - categorical_accuracy: 0.8505 - val_loss: 0.4515 - val_categorical_accuracy: 0.8398\n",
      "Epoch 29/30\n",
      "94/94 [==============================] - 3s 34ms/step - loss: 0.4322 - categorical_accuracy: 0.8503 - val_loss: 0.4504 - val_categorical_accuracy: 0.8393\n",
      "Epoch 30/30\n",
      "94/94 [==============================] - 3s 36ms/step - loss: 0.4300 - categorical_accuracy: 0.8513 - val_loss: 0.4486 - val_categorical_accuracy: 0.8411\n",
      "\n",
      "Accuracy test data: optimazer SGD 0.8335\n",
      "\n",
      "Epoch 1/30\n",
      "94/94 [==============================] - 5s 45ms/step - loss: 0.6947 - categorical_accuracy: 0.7732 - val_loss: 0.4500 - val_categorical_accuracy: 0.8424\n",
      "Epoch 2/30\n",
      "94/94 [==============================] - 4s 44ms/step - loss: 0.4261 - categorical_accuracy: 0.8480 - val_loss: 0.4268 - val_categorical_accuracy: 0.8448\n",
      "Epoch 3/30\n",
      "94/94 [==============================] - 4s 42ms/step - loss: 0.3826 - categorical_accuracy: 0.8626 - val_loss: 0.3944 - val_categorical_accuracy: 0.8579\n",
      "Epoch 4/30\n",
      "94/94 [==============================] - 4s 42ms/step - loss: 0.3637 - categorical_accuracy: 0.8686 - val_loss: 0.3695 - val_categorical_accuracy: 0.8662\n",
      "Epoch 5/30\n",
      "94/94 [==============================] - 4s 39ms/step - loss: 0.3449 - categorical_accuracy: 0.8733 - val_loss: 0.3757 - val_categorical_accuracy: 0.8677\n",
      "Epoch 6/30\n",
      "94/94 [==============================] - 4s 38ms/step - loss: 0.3244 - categorical_accuracy: 0.8818 - val_loss: 0.3437 - val_categorical_accuracy: 0.8738\n",
      "Epoch 7/30\n",
      "94/94 [==============================] - 4s 42ms/step - loss: 0.3101 - categorical_accuracy: 0.8865 - val_loss: 0.3494 - val_categorical_accuracy: 0.8731\n",
      "Epoch 8/30\n",
      "94/94 [==============================] - 4s 41ms/step - loss: 0.2984 - categorical_accuracy: 0.8897 - val_loss: 0.3368 - val_categorical_accuracy: 0.8792\n",
      "Epoch 9/30\n",
      "94/94 [==============================] - 4s 42ms/step - loss: 0.2834 - categorical_accuracy: 0.8946 - val_loss: 0.3368 - val_categorical_accuracy: 0.8787\n",
      "Epoch 10/30\n",
      "94/94 [==============================] - 4s 38ms/step - loss: 0.2734 - categorical_accuracy: 0.8981 - val_loss: 0.3294 - val_categorical_accuracy: 0.8814\n",
      "Epoch 11/30\n",
      "94/94 [==============================] - 4s 38ms/step - loss: 0.2613 - categorical_accuracy: 0.9028 - val_loss: 0.3141 - val_categorical_accuracy: 0.8851\n",
      "Epoch 12/30\n",
      "94/94 [==============================] - 4s 38ms/step - loss: 0.2486 - categorical_accuracy: 0.9069 - val_loss: 0.3122 - val_categorical_accuracy: 0.8880\n",
      "Epoch 13/30\n",
      "94/94 [==============================] - 4s 38ms/step - loss: 0.2382 - categorical_accuracy: 0.9110 - val_loss: 0.3111 - val_categorical_accuracy: 0.8902\n",
      "Epoch 14/30\n",
      "94/94 [==============================] - 4s 40ms/step - loss: 0.2295 - categorical_accuracy: 0.9137 - val_loss: 0.3051 - val_categorical_accuracy: 0.8875\n",
      "Epoch 15/30\n",
      "94/94 [==============================] - 4s 41ms/step - loss: 0.2246 - categorical_accuracy: 0.9163 - val_loss: 0.3174 - val_categorical_accuracy: 0.8825\n",
      "Epoch 16/30\n",
      "94/94 [==============================] - 4s 40ms/step - loss: 0.2155 - categorical_accuracy: 0.9195 - val_loss: 0.3001 - val_categorical_accuracy: 0.8911\n",
      "Epoch 17/30\n",
      "94/94 [==============================] - 4s 42ms/step - loss: 0.2084 - categorical_accuracy: 0.9217 - val_loss: 0.3363 - val_categorical_accuracy: 0.8814\n",
      "Epoch 18/30\n",
      "94/94 [==============================] - 4s 42ms/step - loss: 0.1945 - categorical_accuracy: 0.9278 - val_loss: 0.2936 - val_categorical_accuracy: 0.8959\n",
      "Epoch 19/30\n",
      "94/94 [==============================] - 4s 39ms/step - loss: 0.1961 - categorical_accuracy: 0.9264 - val_loss: 0.2944 - val_categorical_accuracy: 0.8947\n",
      "Epoch 20/30\n",
      "94/94 [==============================] - 4s 38ms/step - loss: 0.1824 - categorical_accuracy: 0.9316 - val_loss: 0.2932 - val_categorical_accuracy: 0.8985\n",
      "Epoch 21/30\n",
      "94/94 [==============================] - 4s 38ms/step - loss: 0.1706 - categorical_accuracy: 0.9372 - val_loss: 0.3002 - val_categorical_accuracy: 0.8941\n",
      "Epoch 22/30\n",
      "94/94 [==============================] - 4s 39ms/step - loss: 0.1649 - categorical_accuracy: 0.9400 - val_loss: 0.2992 - val_categorical_accuracy: 0.8969\n",
      "Epoch 22: early stopping\n",
      "\n",
      "Accuracy test data: optimazer AdamW 0.8893\n",
      "\n",
      "Epoch 1/30\n",
      "94/94 [==============================] - 5s 43ms/step - loss: 2.3041 - categorical_accuracy: 0.0984 - val_loss: 2.3026 - val_categorical_accuracy: 0.0982\n",
      "Epoch 2/30\n",
      "94/94 [==============================] - 4s 40ms/step - loss: 2.3026 - categorical_accuracy: 0.0991 - val_loss: 2.3026 - val_categorical_accuracy: 0.0982\n",
      "Epoch 3/30\n",
      "94/94 [==============================] - 4s 40ms/step - loss: 2.3026 - categorical_accuracy: 0.0989 - val_loss: 2.3026 - val_categorical_accuracy: 0.0982\n",
      "Epoch 3: early stopping\n",
      "\n",
      "Accuracy test data: optimazer Ftrl 0.1\n",
      "\n"
     ]
    }
   ],
   "source": [
    "res_accuracy = []\n",
    "for n_opt, opt in enumerate(optimizers, start=0):\n",
    "\n",
    "  conf_dense = [\n",
    "        Dense(n_units, activation=activate_funcion, input_shape=(num_features,)),\n",
    "        Dense(n_units, activation=activate_funcion),\n",
    "        Dense(10, activation=\"softmax\"),\n",
    "    ]\n",
    "\n",
    "  model = Sequential(conf_dense)\n",
    "\n",
    "  model.compile(\n",
    "      optimizer=opt,\n",
    "      loss=\"categorical_crossentropy\",\n",
    "      metrics=[CategoricalAccuracy()],\n",
    "  )\n",
    "\n",
    "  model.fit(\n",
    "      train_dataset,\n",
    "      validation_data=valid_dataset,\n",
    "      epochs=n_epochs,\n",
    "      verbose=1,\n",
    "      callbacks=[callback_early_stopping]\n",
    "  )\n",
    "\n",
    "  test_out = model(x_test).numpy()\n",
    "  accuracy_test = np.mean(test_out.argmax(axis=1) == y_test)\n",
    "\n",
    "  res_accuracy.append(accuracy_test)\n",
    "  print()\n",
    "  print(f\"Accuracy test data: optimazer {name_optimizers[n_opt]} {accuracy_test.round(4)}\" )\n",
    "  print()"
   ]
  },
  {
   "cell_type": "code",
   "execution_count": 22,
   "id": "8513d293",
   "metadata": {},
   "outputs": [
    {
     "data": {
      "text/plain": [
       "[0.8789, 0.8335, 0.8893, 0.1]"
      ]
     },
     "execution_count": 22,
     "metadata": {},
     "output_type": "execute_result"
    }
   ],
   "source": [
    "res_accuracy"
   ]
  },
  {
   "cell_type": "code",
   "execution_count": 23,
   "id": "97b46ccf",
   "metadata": {},
   "outputs": [
    {
     "data": {
      "text/plain": [
       "'AdamW'"
      ]
     },
     "execution_count": 23,
     "metadata": {},
     "output_type": "execute_result"
    }
   ],
   "source": [
    "# the best optimizer\n",
    "name_optimizers[res_accuracy.index(max(res_accuracy))]"
   ]
  },
  {
   "cell_type": "markdown",
   "id": "e99c988b",
   "metadata": {},
   "source": [
    "AdamW is the best optimizer. Adam also good, SGD is too long time learn, Ftrl  - not work"
   ]
  },
  {
   "cell_type": "code",
   "execution_count": 24,
   "id": "ecc9fc1c",
   "metadata": {},
   "outputs": [],
   "source": [
    "# Test learning rate\n",
    "learning_rates = [0.01, 0.005, 0.001, 0.0005]\n",
    "n_units = 1024\n",
    "n_epochs = 20\n",
    "batch_size = 512\n",
    "layers = 2\n",
    "activate_funcion = \"tanh\""
   ]
  },
  {
   "cell_type": "code",
   "execution_count": 25,
   "id": "699b8ada",
   "metadata": {},
   "outputs": [],
   "source": [
    "train_dataset = Dataset(x_train, y_train, shuffle=True, batch_size=batch_size)\n",
    "valid_dataset = Dataset(x_valid, y_valid, shuffle=False, batch_size=batch_size)"
   ]
  },
  {
   "cell_type": "code",
   "execution_count": 26,
   "id": "6e77bf43",
   "metadata": {},
   "outputs": [
    {
     "name": "stdout",
     "output_type": "stream",
     "text": [
      "Epoch 1/20\n",
      "94/94 [==============================] - 4s 39ms/step - loss: 1.3672 - categorical_accuracy: 0.6362 - val_loss: 0.5534 - val_categorical_accuracy: 0.7952\n",
      "Epoch 2/20\n",
      "94/94 [==============================] - 4s 37ms/step - loss: 0.5256 - categorical_accuracy: 0.8117 - val_loss: 0.5040 - val_categorical_accuracy: 0.8276\n",
      "Epoch 3/20\n",
      "94/94 [==============================] - 4s 39ms/step - loss: 0.4768 - categorical_accuracy: 0.8309 - val_loss: 0.4955 - val_categorical_accuracy: 0.8281\n",
      "Epoch 4/20\n",
      "94/94 [==============================] - 4s 41ms/step - loss: 0.4505 - categorical_accuracy: 0.8380 - val_loss: 0.4390 - val_categorical_accuracy: 0.8389\n",
      "Epoch 5/20\n",
      "94/94 [==============================] - 4s 42ms/step - loss: 0.4590 - categorical_accuracy: 0.8380 - val_loss: 0.4780 - val_categorical_accuracy: 0.8403\n",
      "Epoch 6/20\n",
      "94/94 [==============================] - 4s 40ms/step - loss: 0.4736 - categorical_accuracy: 0.8326 - val_loss: 0.5111 - val_categorical_accuracy: 0.8199\n",
      "Epoch 6: early stopping\n",
      "\n",
      "Accuracy test data: lr 0.01 0.8149\n",
      "\n",
      "Epoch 1/20\n",
      "94/94 [==============================] - 4s 42ms/step - loss: 1.0202 - categorical_accuracy: 0.7245 - val_loss: 0.4632 - val_categorical_accuracy: 0.8306\n",
      "Epoch 2/20\n",
      "94/94 [==============================] - 4s 41ms/step - loss: 0.4398 - categorical_accuracy: 0.8384 - val_loss: 0.4169 - val_categorical_accuracy: 0.8484\n",
      "Epoch 3/20\n",
      "94/94 [==============================] - 4s 43ms/step - loss: 0.3929 - categorical_accuracy: 0.8566 - val_loss: 0.4138 - val_categorical_accuracy: 0.8520\n",
      "Epoch 4/20\n",
      "94/94 [==============================] - 4s 41ms/step - loss: 0.3785 - categorical_accuracy: 0.8626 - val_loss: 0.3633 - val_categorical_accuracy: 0.8701\n",
      "Epoch 5/20\n",
      "94/94 [==============================] - 4s 44ms/step - loss: 0.3493 - categorical_accuracy: 0.8721 - val_loss: 0.4104 - val_categorical_accuracy: 0.8506\n",
      "Epoch 6/20\n",
      "94/94 [==============================] - 4s 41ms/step - loss: 0.3298 - categorical_accuracy: 0.8782 - val_loss: 0.3884 - val_categorical_accuracy: 0.8577\n",
      "Epoch 6: early stopping\n",
      "\n",
      "Accuracy test data: lr 0.005 0.8458\n",
      "\n",
      "Epoch 1/20\n",
      "94/94 [==============================] - 5s 42ms/step - loss: 0.6582 - categorical_accuracy: 0.7778 - val_loss: 0.4345 - val_categorical_accuracy: 0.8467\n",
      "Epoch 2/20\n",
      "94/94 [==============================] - 4s 42ms/step - loss: 0.4214 - categorical_accuracy: 0.8483 - val_loss: 0.3996 - val_categorical_accuracy: 0.8563\n",
      "Epoch 3/20\n",
      "94/94 [==============================] - 4s 46ms/step - loss: 0.3815 - categorical_accuracy: 0.8626 - val_loss: 0.3997 - val_categorical_accuracy: 0.8528\n",
      "Epoch 4/20\n",
      "94/94 [==============================] - 4s 44ms/step - loss: 0.3586 - categorical_accuracy: 0.8697 - val_loss: 0.3712 - val_categorical_accuracy: 0.8648\n",
      "Epoch 5/20\n",
      "94/94 [==============================] - 4s 42ms/step - loss: 0.3328 - categorical_accuracy: 0.8775 - val_loss: 0.3774 - val_categorical_accuracy: 0.8645\n",
      "Epoch 6/20\n",
      "94/94 [==============================] - 4s 43ms/step - loss: 0.3242 - categorical_accuracy: 0.8796 - val_loss: 0.3495 - val_categorical_accuracy: 0.8692\n",
      "Epoch 7/20\n",
      "94/94 [==============================] - 4s 39ms/step - loss: 0.3029 - categorical_accuracy: 0.8886 - val_loss: 0.3493 - val_categorical_accuracy: 0.8743\n",
      "Epoch 8/20\n",
      "94/94 [==============================] - 4s 46ms/step - loss: 0.2951 - categorical_accuracy: 0.8917 - val_loss: 0.3337 - val_categorical_accuracy: 0.8788\n",
      "Epoch 9/20\n",
      "94/94 [==============================] - 4s 44ms/step - loss: 0.2742 - categorical_accuracy: 0.8981 - val_loss: 0.3189 - val_categorical_accuracy: 0.8842\n",
      "Epoch 10/20\n",
      "94/94 [==============================] - 4s 44ms/step - loss: 0.2652 - categorical_accuracy: 0.9015 - val_loss: 0.3549 - val_categorical_accuracy: 0.8689\n",
      "Epoch 11/20\n",
      "94/94 [==============================] - 4s 45ms/step - loss: 0.2619 - categorical_accuracy: 0.9022 - val_loss: 0.3101 - val_categorical_accuracy: 0.8878\n",
      "Epoch 12/20\n",
      "94/94 [==============================] - 4s 44ms/step - loss: 0.2482 - categorical_accuracy: 0.9066 - val_loss: 0.3509 - val_categorical_accuracy: 0.8751\n",
      "Epoch 13/20\n",
      "94/94 [==============================] - 4s 42ms/step - loss: 0.2420 - categorical_accuracy: 0.9083 - val_loss: 0.3224 - val_categorical_accuracy: 0.8813\n",
      "Epoch 13: early stopping\n",
      "\n",
      "Accuracy test data: lr 0.001 0.8747\n",
      "\n",
      "Epoch 1/20\n",
      "94/94 [==============================] - 5s 43ms/step - loss: 0.5903 - categorical_accuracy: 0.7909 - val_loss: 0.4515 - val_categorical_accuracy: 0.8413\n",
      "Epoch 2/20\n",
      "94/94 [==============================] - 4s 40ms/step - loss: 0.4286 - categorical_accuracy: 0.8470 - val_loss: 0.4139 - val_categorical_accuracy: 0.8524\n",
      "Epoch 3/20\n",
      "94/94 [==============================] - 4s 40ms/step - loss: 0.3864 - categorical_accuracy: 0.8621 - val_loss: 0.3973 - val_categorical_accuracy: 0.8591\n",
      "Epoch 4/20\n",
      "94/94 [==============================] - 4s 42ms/step - loss: 0.3730 - categorical_accuracy: 0.8654 - val_loss: 0.3927 - val_categorical_accuracy: 0.8606\n",
      "Epoch 5/20\n",
      "94/94 [==============================] - 4s 42ms/step - loss: 0.3509 - categorical_accuracy: 0.8737 - val_loss: 0.3803 - val_categorical_accuracy: 0.8653\n",
      "Epoch 6/20\n",
      "94/94 [==============================] - 4s 42ms/step - loss: 0.3366 - categorical_accuracy: 0.8786 - val_loss: 0.3701 - val_categorical_accuracy: 0.8668\n",
      "Epoch 7/20\n",
      "94/94 [==============================] - 4s 43ms/step - loss: 0.3264 - categorical_accuracy: 0.8814 - val_loss: 0.3697 - val_categorical_accuracy: 0.8656\n",
      "Epoch 8/20\n",
      "94/94 [==============================] - 4s 42ms/step - loss: 0.3129 - categorical_accuracy: 0.8857 - val_loss: 0.3523 - val_categorical_accuracy: 0.8749\n",
      "Epoch 9/20\n",
      "94/94 [==============================] - 4s 42ms/step - loss: 0.2958 - categorical_accuracy: 0.8918 - val_loss: 0.3385 - val_categorical_accuracy: 0.8785\n",
      "Epoch 10/20\n",
      "94/94 [==============================] - 4s 43ms/step - loss: 0.2937 - categorical_accuracy: 0.8914 - val_loss: 0.3657 - val_categorical_accuracy: 0.8696\n",
      "Epoch 11/20\n",
      "94/94 [==============================] - 4s 41ms/step - loss: 0.2786 - categorical_accuracy: 0.8981 - val_loss: 0.3325 - val_categorical_accuracy: 0.8815\n",
      "Epoch 12/20\n",
      "94/94 [==============================] - 4s 40ms/step - loss: 0.2720 - categorical_accuracy: 0.8996 - val_loss: 0.3155 - val_categorical_accuracy: 0.8873\n",
      "Epoch 13/20\n",
      "94/94 [==============================] - 4s 41ms/step - loss: 0.2609 - categorical_accuracy: 0.9047 - val_loss: 0.3110 - val_categorical_accuracy: 0.8882\n",
      "Epoch 14/20\n",
      "94/94 [==============================] - 4s 40ms/step - loss: 0.2592 - categorical_accuracy: 0.9048 - val_loss: 0.3297 - val_categorical_accuracy: 0.8783\n",
      "Epoch 15/20\n",
      "94/94 [==============================] - 4s 41ms/step - loss: 0.2480 - categorical_accuracy: 0.9078 - val_loss: 0.3164 - val_categorical_accuracy: 0.8861\n",
      "Epoch 15: early stopping\n",
      "\n",
      "Accuracy test data: lr 0.0005 0.879\n",
      "\n"
     ]
    }
   ],
   "source": [
    "res_accuracy = []\n",
    "for l_rate in learning_rates:\n",
    "\n",
    "  conf_dense = [\n",
    "        Dense(n_units, activation=activate_funcion, input_shape=(num_features,)),\n",
    "        Dense(n_units, activation=activate_funcion),\n",
    "        Dense(10, activation=\"softmax\"),\n",
    "    ]\n",
    "\n",
    "  model = Sequential(conf_dense)\n",
    "\n",
    "  model.compile(\n",
    "      optimizer=AdamW(learning_rate=l_rate),\n",
    "      loss=\"categorical_crossentropy\",\n",
    "      metrics=[CategoricalAccuracy()],\n",
    "  )\n",
    "\n",
    "  model.fit(\n",
    "      train_dataset,\n",
    "      validation_data=valid_dataset,\n",
    "      epochs=n_epochs,\n",
    "      verbose=1,\n",
    "      callbacks=[callback_early_stopping]\n",
    "  )\n",
    "\n",
    "  test_out = model(x_test).numpy()\n",
    "  accuracy_test = np.mean(test_out.argmax(axis=1) == y_test)\n",
    "\n",
    "  res_accuracy.append(accuracy_test)\n",
    "  print()\n",
    "  print(f\"Accuracy test data: lr {l_rate} {accuracy_test.round(4)}\" )\n",
    "  print()"
   ]
  },
  {
   "cell_type": "code",
   "execution_count": 27,
   "id": "169a1ae1",
   "metadata": {},
   "outputs": [
    {
     "data": {
      "text/plain": [
       "[0.8149, 0.8458, 0.8747, 0.879]"
      ]
     },
     "execution_count": 27,
     "metadata": {},
     "output_type": "execute_result"
    }
   ],
   "source": [
    "res_accuracy"
   ]
  },
  {
   "cell_type": "code",
   "execution_count": 28,
   "id": "ac9afde8",
   "metadata": {},
   "outputs": [
    {
     "data": {
      "text/plain": [
       "0.0005"
      ]
     },
     "execution_count": 28,
     "metadata": {},
     "output_type": "execute_result"
    }
   ],
   "source": [
    "# the best lr\n",
    "learning_rates[res_accuracy.index(max(res_accuracy))]"
   ]
  },
  {
   "cell_type": "markdown",
   "id": "682f1d0a",
   "metadata": {},
   "source": [
    "The best learning rate is 0.0005."
   ]
  },
  {
   "cell_type": "code",
   "execution_count": 35,
   "id": "c179b564",
   "metadata": {},
   "outputs": [],
   "source": [
    "# Test different n_units in layers\n",
    "learning_rates = [0.003, 0.001, 0.0005]\n",
    "n_units_1 = 4000\n",
    "n_units_2 = 80\n",
    "n_epochs = 30\n",
    "batch_size = 512\n",
    "layer = 2\n",
    "activate_funcion = \"relu\""
   ]
  },
  {
   "cell_type": "code",
   "execution_count": 32,
   "id": "1065a099",
   "metadata": {},
   "outputs": [],
   "source": [
    "train_dataset = Dataset(x_train, y_train, shuffle=True, batch_size=batch_size)\n",
    "valid_dataset = Dataset(x_valid, y_valid, shuffle=False, batch_size=batch_size)"
   ]
  },
  {
   "cell_type": "code",
   "execution_count": 36,
   "id": "65db861c",
   "metadata": {
    "scrolled": true
   },
   "outputs": [
    {
     "name": "stdout",
     "output_type": "stream",
     "text": [
      "Epoch 1/30\n",
      "94/94 [==============================] - ETA: 0s - loss: 0.9363 - categorical_accuracy: 0.7066\n",
      "Epoch 1: val_loss did not improve from 0.44583\n",
      "94/94 [==============================] - 7s 72ms/step - loss: 0.9363 - categorical_accuracy: 0.7066 - val_loss: 0.5194 - val_categorical_accuracy: 0.8133\n",
      "Epoch 2/30\n",
      "94/94 [==============================] - ETA: 0s - loss: 0.4516 - categorical_accuracy: 0.8373\n",
      "Epoch 2: val_loss improved from 0.44583 to 0.40509, saving model to best.hdf5\n",
      "94/94 [==============================] - 7s 76ms/step - loss: 0.4516 - categorical_accuracy: 0.8373 - val_loss: 0.4051 - val_categorical_accuracy: 0.8514\n",
      "Epoch 3/30\n",
      "94/94 [==============================] - ETA: 0s - loss: 0.3864 - categorical_accuracy: 0.8584\n",
      "Epoch 3: val_loss improved from 0.40509 to 0.37576, saving model to best.hdf5\n",
      "94/94 [==============================] - 7s 76ms/step - loss: 0.3864 - categorical_accuracy: 0.8584 - val_loss: 0.3758 - val_categorical_accuracy: 0.8657\n",
      "Epoch 4/30\n",
      "94/94 [==============================] - ETA: 0s - loss: 0.3613 - categorical_accuracy: 0.8674\n",
      "Epoch 4: val_loss improved from 0.37576 to 0.36084, saving model to best.hdf5\n",
      "94/94 [==============================] - 7s 75ms/step - loss: 0.3613 - categorical_accuracy: 0.8674 - val_loss: 0.3608 - val_categorical_accuracy: 0.8650\n",
      "Epoch 5/30\n",
      "94/94 [==============================] - ETA: 0s - loss: 0.3349 - categorical_accuracy: 0.8781\n",
      "Epoch 5: val_loss improved from 0.36084 to 0.34327, saving model to best.hdf5\n",
      "94/94 [==============================] - 8s 81ms/step - loss: 0.3349 - categorical_accuracy: 0.8781 - val_loss: 0.3433 - val_categorical_accuracy: 0.8728\n",
      "Epoch 6/30\n",
      "94/94 [==============================] - ETA: 0s - loss: 0.3304 - categorical_accuracy: 0.8767\n",
      "Epoch 6: val_loss improved from 0.34327 to 0.33090, saving model to best.hdf5\n",
      "94/94 [==============================] - 7s 78ms/step - loss: 0.3304 - categorical_accuracy: 0.8767 - val_loss: 0.3309 - val_categorical_accuracy: 0.8788\n",
      "Epoch 7/30\n",
      "94/94 [==============================] - ETA: 0s - loss: 0.3126 - categorical_accuracy: 0.8842\n",
      "Epoch 7: val_loss improved from 0.33090 to 0.32957, saving model to best.hdf5\n",
      "94/94 [==============================] - 7s 79ms/step - loss: 0.3126 - categorical_accuracy: 0.8842 - val_loss: 0.3296 - val_categorical_accuracy: 0.8795\n",
      "Epoch 8/30\n",
      "94/94 [==============================] - ETA: 0s - loss: 0.3038 - categorical_accuracy: 0.8859\n",
      "Epoch 8: val_loss improved from 0.32957 to 0.32453, saving model to best.hdf5\n",
      "94/94 [==============================] - 7s 79ms/step - loss: 0.3038 - categorical_accuracy: 0.8859 - val_loss: 0.3245 - val_categorical_accuracy: 0.8803\n",
      "Epoch 9/30\n",
      "94/94 [==============================] - ETA: 0s - loss: 0.2994 - categorical_accuracy: 0.8893\n",
      "Epoch 9: val_loss improved from 0.32453 to 0.31804, saving model to best.hdf5\n",
      "94/94 [==============================] - 7s 76ms/step - loss: 0.2994 - categorical_accuracy: 0.8893 - val_loss: 0.3180 - val_categorical_accuracy: 0.8855\n",
      "Epoch 10/30\n",
      "94/94 [==============================] - ETA: 0s - loss: 0.2899 - categorical_accuracy: 0.8924\n",
      "Epoch 10: val_loss did not improve from 0.31804\n",
      "94/94 [==============================] - 7s 76ms/step - loss: 0.2899 - categorical_accuracy: 0.8924 - val_loss: 0.3346 - val_categorical_accuracy: 0.8742\n",
      "Epoch 11/30\n",
      "94/94 [==============================] - ETA: 0s - loss: 0.2773 - categorical_accuracy: 0.8962\n",
      "Epoch 11: val_loss improved from 0.31804 to 0.30512, saving model to best.hdf5\n",
      "94/94 [==============================] - 7s 75ms/step - loss: 0.2773 - categorical_accuracy: 0.8962 - val_loss: 0.3051 - val_categorical_accuracy: 0.8897\n",
      "Epoch 12/30\n",
      "94/94 [==============================] - ETA: 0s - loss: 0.2730 - categorical_accuracy: 0.8980\n",
      "Epoch 12: val_loss did not improve from 0.30512\n",
      "94/94 [==============================] - 7s 75ms/step - loss: 0.2730 - categorical_accuracy: 0.8980 - val_loss: 0.3085 - val_categorical_accuracy: 0.8873\n",
      "Epoch 13/30\n",
      "94/94 [==============================] - ETA: 0s - loss: 0.2738 - categorical_accuracy: 0.8965\n",
      "Epoch 13: val_loss did not improve from 0.30512\n",
      "94/94 [==============================] - 7s 76ms/step - loss: 0.2738 - categorical_accuracy: 0.8965 - val_loss: 0.3236 - val_categorical_accuracy: 0.8821\n",
      "Epoch 14/30\n",
      "94/94 [==============================] - ETA: 0s - loss: 0.2675 - categorical_accuracy: 0.9006\n",
      "Epoch 14: val_loss did not improve from 0.30512\n",
      "94/94 [==============================] - 7s 76ms/step - loss: 0.2675 - categorical_accuracy: 0.9006 - val_loss: 0.3137 - val_categorical_accuracy: 0.8851\n",
      "Epoch 15/30\n",
      "94/94 [==============================] - ETA: 0s - loss: 0.2615 - categorical_accuracy: 0.9014\n",
      "Epoch 15: val_loss improved from 0.30512 to 0.30461, saving model to best.hdf5\n",
      "94/94 [==============================] - 7s 70ms/step - loss: 0.2615 - categorical_accuracy: 0.9014 - val_loss: 0.3046 - val_categorical_accuracy: 0.8915\n",
      "Epoch 16/30\n",
      "94/94 [==============================] - ETA: 0s - loss: 0.2570 - categorical_accuracy: 0.9026\n",
      "Epoch 16: val_loss did not improve from 0.30461\n",
      "94/94 [==============================] - 7s 71ms/step - loss: 0.2570 - categorical_accuracy: 0.9026 - val_loss: 0.3095 - val_categorical_accuracy: 0.8904\n",
      "Epoch 17/30\n",
      "94/94 [==============================] - ETA: 0s - loss: 0.2523 - categorical_accuracy: 0.9036\n",
      "Epoch 17: val_loss improved from 0.30461 to 0.30284, saving model to best.hdf5\n",
      "94/94 [==============================] - 7s 70ms/step - loss: 0.2523 - categorical_accuracy: 0.9036 - val_loss: 0.3028 - val_categorical_accuracy: 0.8914\n",
      "Epoch 18/30\n",
      "94/94 [==============================] - ETA: 0s - loss: 0.2458 - categorical_accuracy: 0.9084\n",
      "Epoch 18: val_loss improved from 0.30284 to 0.29376, saving model to best.hdf5\n",
      "94/94 [==============================] - 7s 70ms/step - loss: 0.2458 - categorical_accuracy: 0.9084 - val_loss: 0.2938 - val_categorical_accuracy: 0.8927\n",
      "Epoch 19/30\n",
      "94/94 [==============================] - ETA: 0s - loss: 0.2466 - categorical_accuracy: 0.9074\n",
      "Epoch 19: val_loss did not improve from 0.29376\n",
      "94/94 [==============================] - 6s 68ms/step - loss: 0.2466 - categorical_accuracy: 0.9074 - val_loss: 0.3017 - val_categorical_accuracy: 0.8917\n",
      "Epoch 20/30\n",
      "94/94 [==============================] - ETA: 0s - loss: 0.2409 - categorical_accuracy: 0.9090\n",
      "Epoch 20: val_loss did not improve from 0.29376\n",
      "94/94 [==============================] - 6s 68ms/step - loss: 0.2409 - categorical_accuracy: 0.9090 - val_loss: 0.3060 - val_categorical_accuracy: 0.8936\n",
      "Epoch 21/30\n",
      "94/94 [==============================] - ETA: 0s - loss: 0.2381 - categorical_accuracy: 0.9101\n",
      "Epoch 21: val_loss did not improve from 0.29376\n",
      "94/94 [==============================] - 6s 68ms/step - loss: 0.2381 - categorical_accuracy: 0.9101 - val_loss: 0.3118 - val_categorical_accuracy: 0.8913\n",
      "Epoch 22/30\n",
      "94/94 [==============================] - ETA: 0s - loss: 0.2338 - categorical_accuracy: 0.9120\n",
      "Epoch 22: val_loss did not improve from 0.29376\n",
      "94/94 [==============================] - 7s 70ms/step - loss: 0.2338 - categorical_accuracy: 0.9120 - val_loss: 0.3037 - val_categorical_accuracy: 0.8939\n",
      "Epoch 23/30\n",
      "94/94 [==============================] - ETA: 0s - loss: 0.2308 - categorical_accuracy: 0.9130\n",
      "Epoch 23: val_loss did not improve from 0.29376\n",
      "94/94 [==============================] - 7s 70ms/step - loss: 0.2308 - categorical_accuracy: 0.9130 - val_loss: 0.3004 - val_categorical_accuracy: 0.8941\n",
      "Epoch 24/30\n",
      "94/94 [==============================] - ETA: 0s - loss: 0.2296 - categorical_accuracy: 0.9125\n",
      "Epoch 24: val_loss did not improve from 0.29376\n",
      "94/94 [==============================] - 6s 69ms/step - loss: 0.2296 - categorical_accuracy: 0.9125 - val_loss: 0.3006 - val_categorical_accuracy: 0.8952\n",
      "Epoch 25/30\n",
      "94/94 [==============================] - ETA: 0s - loss: 0.2230 - categorical_accuracy: 0.9160\n",
      "Epoch 25: val_loss did not improve from 0.29376\n",
      "94/94 [==============================] - 6s 68ms/step - loss: 0.2230 - categorical_accuracy: 0.9160 - val_loss: 0.3006 - val_categorical_accuracy: 0.8953\n",
      "Epoch 26/30\n",
      "94/94 [==============================] - ETA: 0s - loss: 0.2227 - categorical_accuracy: 0.9150\n",
      "Epoch 26: val_loss did not improve from 0.29376\n",
      "94/94 [==============================] - 6s 68ms/step - loss: 0.2227 - categorical_accuracy: 0.9150 - val_loss: 0.3026 - val_categorical_accuracy: 0.8972\n",
      "Epoch 27/30\n",
      "94/94 [==============================] - ETA: 0s - loss: 0.2207 - categorical_accuracy: 0.9154\n",
      "Epoch 27: val_loss improved from 0.29376 to 0.29360, saving model to best.hdf5\n",
      "94/94 [==============================] - 6s 68ms/step - loss: 0.2207 - categorical_accuracy: 0.9154 - val_loss: 0.2936 - val_categorical_accuracy: 0.8981\n",
      "Epoch 28/30\n",
      "94/94 [==============================] - ETA: 0s - loss: 0.2237 - categorical_accuracy: 0.9160\n",
      "Epoch 28: val_loss did not improve from 0.29360\n",
      "94/94 [==============================] - 7s 70ms/step - loss: 0.2237 - categorical_accuracy: 0.9160 - val_loss: 0.3056 - val_categorical_accuracy: 0.8926\n",
      "Epoch 29/30\n",
      "94/94 [==============================] - ETA: 0s - loss: 0.2138 - categorical_accuracy: 0.9191\n",
      "Epoch 29: val_loss did not improve from 0.29360\n",
      "94/94 [==============================] - 7s 69ms/step - loss: 0.2138 - categorical_accuracy: 0.9191 - val_loss: 0.2964 - val_categorical_accuracy: 0.8992\n",
      "Epoch 30/30\n",
      "94/94 [==============================] - ETA: 0s - loss: 0.2103 - categorical_accuracy: 0.9210\n",
      "Epoch 30: val_loss did not improve from 0.29360\n",
      "94/94 [==============================] - 6s 68ms/step - loss: 0.2103 - categorical_accuracy: 0.9210 - val_loss: 0.3004 - val_categorical_accuracy: 0.8987\n",
      "\n",
      "Accuracy test data: lr 0.003 0.8928\n",
      "\n",
      "Epoch 1/30\n",
      "94/94 [==============================] - ETA: 0s - loss: 0.6113 - categorical_accuracy: 0.7848\n",
      "Epoch 1: val_loss did not improve from 0.29360\n",
      "94/94 [==============================] - 7s 72ms/step - loss: 0.6113 - categorical_accuracy: 0.7848 - val_loss: 0.4463 - val_categorical_accuracy: 0.8402\n",
      "Epoch 2/30\n",
      "94/94 [==============================] - ETA: 0s - loss: 0.4154 - categorical_accuracy: 0.8518\n",
      "Epoch 2: val_loss did not improve from 0.29360\n",
      "94/94 [==============================] - 6s 69ms/step - loss: 0.4154 - categorical_accuracy: 0.8518 - val_loss: 0.4241 - val_categorical_accuracy: 0.8454\n",
      "Epoch 3/30\n",
      "94/94 [==============================] - ETA: 0s - loss: 0.3697 - categorical_accuracy: 0.8658\n",
      "Epoch 3: val_loss did not improve from 0.29360\n",
      "94/94 [==============================] - 6s 69ms/step - loss: 0.3697 - categorical_accuracy: 0.8658 - val_loss: 0.3546 - val_categorical_accuracy: 0.8728\n",
      "Epoch 4/30\n",
      "94/94 [==============================] - ETA: 0s - loss: 0.3434 - categorical_accuracy: 0.8759\n",
      "Epoch 4: val_loss did not improve from 0.29360\n",
      "94/94 [==============================] - 7s 70ms/step - loss: 0.3434 - categorical_accuracy: 0.8759 - val_loss: 0.4030 - val_categorical_accuracy: 0.8575\n",
      "Epoch 5/30\n",
      "94/94 [==============================] - ETA: 0s - loss: 0.3234 - categorical_accuracy: 0.8814\n",
      "Epoch 5: val_loss did not improve from 0.29360\n",
      "94/94 [==============================] - 7s 71ms/step - loss: 0.3234 - categorical_accuracy: 0.8814 - val_loss: 0.3296 - val_categorical_accuracy: 0.8802\n",
      "Epoch 6/30\n",
      "94/94 [==============================] - ETA: 0s - loss: 0.3032 - categorical_accuracy: 0.8898\n",
      "Epoch 6: val_loss did not improve from 0.29360\n",
      "94/94 [==============================] - 7s 69ms/step - loss: 0.3032 - categorical_accuracy: 0.8898 - val_loss: 0.3548 - val_categorical_accuracy: 0.8712\n",
      "Epoch 7/30\n",
      "94/94 [==============================] - ETA: 0s - loss: 0.2935 - categorical_accuracy: 0.8919\n",
      "Epoch 7: val_loss did not improve from 0.29360\n",
      "94/94 [==============================] - 7s 70ms/step - loss: 0.2935 - categorical_accuracy: 0.8919 - val_loss: 0.3254 - val_categorical_accuracy: 0.8792\n",
      "Epoch 8/30\n",
      "94/94 [==============================] - ETA: 0s - loss: 0.2841 - categorical_accuracy: 0.8939\n",
      "Epoch 8: val_loss did not improve from 0.29360\n",
      "94/94 [==============================] - 6s 68ms/step - loss: 0.2841 - categorical_accuracy: 0.8939 - val_loss: 0.3163 - val_categorical_accuracy: 0.8863\n",
      "Epoch 9/30\n",
      "94/94 [==============================] - ETA: 0s - loss: 0.2713 - categorical_accuracy: 0.8998\n",
      "Epoch 9: val_loss did not improve from 0.29360\n",
      "94/94 [==============================] - 7s 74ms/step - loss: 0.2713 - categorical_accuracy: 0.8998 - val_loss: 0.3076 - val_categorical_accuracy: 0.8882\n",
      "Epoch 10/30\n",
      "94/94 [==============================] - ETA: 0s - loss: 0.2655 - categorical_accuracy: 0.9006\n",
      "Epoch 10: val_loss did not improve from 0.29360\n",
      "94/94 [==============================] - 7s 75ms/step - loss: 0.2655 - categorical_accuracy: 0.9006 - val_loss: 0.3130 - val_categorical_accuracy: 0.8874\n",
      "Epoch 11/30\n",
      "94/94 [==============================] - ETA: 0s - loss: 0.2629 - categorical_accuracy: 0.9023\n",
      "Epoch 11: val_loss did not improve from 0.29360\n",
      "94/94 [==============================] - 6s 67ms/step - loss: 0.2629 - categorical_accuracy: 0.9023 - val_loss: 0.3224 - val_categorical_accuracy: 0.8838\n",
      "Epoch 12/30\n",
      "94/94 [==============================] - ETA: 0s - loss: 0.2597 - categorical_accuracy: 0.9034\n",
      "Epoch 12: val_loss did not improve from 0.29360\n",
      "94/94 [==============================] - 6s 66ms/step - loss: 0.2597 - categorical_accuracy: 0.9034 - val_loss: 0.3135 - val_categorical_accuracy: 0.8882\n",
      "Epoch 13/30\n",
      "94/94 [==============================] - ETA: 0s - loss: 0.2467 - categorical_accuracy: 0.9085\n",
      "Epoch 13: val_loss did not improve from 0.29360\n",
      "94/94 [==============================] - 6s 67ms/step - loss: 0.2467 - categorical_accuracy: 0.9085 - val_loss: 0.3257 - val_categorical_accuracy: 0.8865\n",
      "Epoch 14/30\n",
      "94/94 [==============================] - ETA: 0s - loss: 0.2409 - categorical_accuracy: 0.9092\n",
      "Epoch 14: val_loss did not improve from 0.29360\n",
      "94/94 [==============================] - 6s 68ms/step - loss: 0.2409 - categorical_accuracy: 0.9092 - val_loss: 0.2993 - val_categorical_accuracy: 0.8917\n",
      "Epoch 15/30\n",
      "94/94 [==============================] - ETA: 0s - loss: 0.2385 - categorical_accuracy: 0.9103\n",
      "Epoch 15: val_loss did not improve from 0.29360\n",
      "94/94 [==============================] - 7s 76ms/step - loss: 0.2385 - categorical_accuracy: 0.9103 - val_loss: 0.3074 - val_categorical_accuracy: 0.8902\n",
      "Epoch 16/30\n",
      "94/94 [==============================] - ETA: 0s - loss: 0.2281 - categorical_accuracy: 0.9146\n",
      "Epoch 16: val_loss did not improve from 0.29360\n",
      "94/94 [==============================] - 6s 69ms/step - loss: 0.2281 - categorical_accuracy: 0.9146 - val_loss: 0.3178 - val_categorical_accuracy: 0.8889\n",
      "Epoch 17/30\n",
      "94/94 [==============================] - ETA: 0s - loss: 0.2214 - categorical_accuracy: 0.9167\n",
      "Epoch 17: val_loss did not improve from 0.29360\n",
      "94/94 [==============================] - 7s 69ms/step - loss: 0.2214 - categorical_accuracy: 0.9167 - val_loss: 0.2971 - val_categorical_accuracy: 0.8963\n",
      "Epoch 18/30\n",
      "94/94 [==============================] - ETA: 0s - loss: 0.2211 - categorical_accuracy: 0.9162\n",
      "Epoch 18: val_loss did not improve from 0.29360\n",
      "94/94 [==============================] - 6s 67ms/step - loss: 0.2211 - categorical_accuracy: 0.9162 - val_loss: 0.2946 - val_categorical_accuracy: 0.8980\n",
      "Epoch 19/30\n",
      "94/94 [==============================] - ETA: 0s - loss: 0.2183 - categorical_accuracy: 0.9174\n",
      "Epoch 19: val_loss improved from 0.29360 to 0.29288, saving model to best.hdf5\n",
      "94/94 [==============================] - 7s 70ms/step - loss: 0.2183 - categorical_accuracy: 0.9174 - val_loss: 0.2929 - val_categorical_accuracy: 0.8948\n",
      "Epoch 20/30\n",
      "94/94 [==============================] - ETA: 0s - loss: 0.2108 - categorical_accuracy: 0.9206\n",
      "Epoch 20: val_loss improved from 0.29288 to 0.28860, saving model to best.hdf5\n",
      "94/94 [==============================] - 7s 71ms/step - loss: 0.2108 - categorical_accuracy: 0.9206 - val_loss: 0.2886 - val_categorical_accuracy: 0.8988\n",
      "Epoch 21/30\n",
      "94/94 [==============================] - ETA: 0s - loss: 0.2094 - categorical_accuracy: 0.9208\n",
      "Epoch 21: val_loss did not improve from 0.28860\n",
      "94/94 [==============================] - 7s 70ms/step - loss: 0.2094 - categorical_accuracy: 0.9208 - val_loss: 0.2993 - val_categorical_accuracy: 0.8948\n",
      "Epoch 22/30\n",
      "94/94 [==============================] - ETA: 0s - loss: 0.2030 - categorical_accuracy: 0.9244\n",
      "Epoch 22: val_loss did not improve from 0.28860\n",
      "94/94 [==============================] - 7s 70ms/step - loss: 0.2030 - categorical_accuracy: 0.9244 - val_loss: 0.3048 - val_categorical_accuracy: 0.8927\n",
      "Epoch 23/30\n",
      "94/94 [==============================] - ETA: 0s - loss: 0.1992 - categorical_accuracy: 0.9240\n",
      "Epoch 23: val_loss did not improve from 0.28860\n",
      "94/94 [==============================] - 6s 69ms/step - loss: 0.1992 - categorical_accuracy: 0.9240 - val_loss: 0.2923 - val_categorical_accuracy: 0.8993\n",
      "Epoch 24/30\n",
      "94/94 [==============================] - ETA: 0s - loss: 0.1946 - categorical_accuracy: 0.9262\n",
      "Epoch 24: val_loss did not improve from 0.28860\n",
      "94/94 [==============================] - 6s 69ms/step - loss: 0.1946 - categorical_accuracy: 0.9262 - val_loss: 0.2928 - val_categorical_accuracy: 0.9013\n",
      "Epoch 25/30\n",
      "94/94 [==============================] - ETA: 0s - loss: 0.1914 - categorical_accuracy: 0.9280\n",
      "Epoch 25: val_loss did not improve from 0.28860\n",
      "94/94 [==============================] - 7s 70ms/step - loss: 0.1914 - categorical_accuracy: 0.9280 - val_loss: 0.2997 - val_categorical_accuracy: 0.8986\n",
      "Epoch 26/30\n",
      "94/94 [==============================] - ETA: 0s - loss: 0.1840 - categorical_accuracy: 0.9297\n",
      "Epoch 26: val_loss did not improve from 0.28860\n",
      "94/94 [==============================] - 6s 69ms/step - loss: 0.1840 - categorical_accuracy: 0.9297 - val_loss: 0.2959 - val_categorical_accuracy: 0.8994\n",
      "Epoch 27/30\n",
      "94/94 [==============================] - ETA: 0s - loss: 0.1859 - categorical_accuracy: 0.9304\n",
      "Epoch 27: val_loss did not improve from 0.28860\n",
      "94/94 [==============================] - 7s 71ms/step - loss: 0.1859 - categorical_accuracy: 0.9304 - val_loss: 0.2988 - val_categorical_accuracy: 0.9000\n",
      "Epoch 28/30\n",
      "94/94 [==============================] - ETA: 0s - loss: 0.1838 - categorical_accuracy: 0.9301\n",
      "Epoch 28: val_loss did not improve from 0.28860\n",
      "94/94 [==============================] - 7s 70ms/step - loss: 0.1838 - categorical_accuracy: 0.9301 - val_loss: 0.3101 - val_categorical_accuracy: 0.9000\n",
      "Epoch 29/30\n",
      "94/94 [==============================] - ETA: 0s - loss: 0.1795 - categorical_accuracy: 0.9311\n",
      "Epoch 29: val_loss did not improve from 0.28860\n",
      "94/94 [==============================] - 6s 68ms/step - loss: 0.1795 - categorical_accuracy: 0.9311 - val_loss: 0.2958 - val_categorical_accuracy: 0.9012\n",
      "Epoch 30/30\n",
      "94/94 [==============================] - ETA: 0s - loss: 0.1752 - categorical_accuracy: 0.9347\n",
      "Epoch 30: val_loss did not improve from 0.28860\n",
      "94/94 [==============================] - 7s 70ms/step - loss: 0.1752 - categorical_accuracy: 0.9347 - val_loss: 0.3177 - val_categorical_accuracy: 0.8982\n",
      "\n",
      "Accuracy test data: lr 0.001 0.8902\n",
      "\n",
      "Epoch 1/30\n",
      "94/94 [==============================] - ETA: 0s - loss: 0.6180 - categorical_accuracy: 0.7868\n",
      "Epoch 1: val_loss did not improve from 0.28860\n",
      "94/94 [==============================] - 7s 72ms/step - loss: 0.6180 - categorical_accuracy: 0.7868 - val_loss: 0.4811 - val_categorical_accuracy: 0.8216\n",
      "Epoch 2/30\n",
      "94/94 [==============================] - ETA: 0s - loss: 0.4107 - categorical_accuracy: 0.8556\n",
      "Epoch 2: val_loss did not improve from 0.28860\n",
      "94/94 [==============================] - 7s 76ms/step - loss: 0.4107 - categorical_accuracy: 0.8556 - val_loss: 0.4003 - val_categorical_accuracy: 0.8560\n",
      "Epoch 3/30\n",
      "94/94 [==============================] - ETA: 0s - loss: 0.3701 - categorical_accuracy: 0.8681\n",
      "Epoch 3: val_loss did not improve from 0.28860\n",
      "94/94 [==============================] - 7s 74ms/step - loss: 0.3701 - categorical_accuracy: 0.8681 - val_loss: 0.3569 - val_categorical_accuracy: 0.8713\n",
      "Epoch 4/30\n",
      "94/94 [==============================] - ETA: 0s - loss: 0.3477 - categorical_accuracy: 0.8748\n",
      "Epoch 4: val_loss did not improve from 0.28860\n",
      "94/94 [==============================] - 7s 74ms/step - loss: 0.3477 - categorical_accuracy: 0.8748 - val_loss: 0.3466 - val_categorical_accuracy: 0.8767\n",
      "Epoch 5/30\n",
      "94/94 [==============================] - ETA: 0s - loss: 0.3190 - categorical_accuracy: 0.8844\n",
      "Epoch 5: val_loss did not improve from 0.28860\n",
      "94/94 [==============================] - 7s 75ms/step - loss: 0.3190 - categorical_accuracy: 0.8844 - val_loss: 0.3347 - val_categorical_accuracy: 0.8798\n",
      "Epoch 6/30\n",
      "94/94 [==============================] - ETA: 0s - loss: 0.3049 - categorical_accuracy: 0.8891\n",
      "Epoch 6: val_loss did not improve from 0.28860\n",
      "94/94 [==============================] - 7s 75ms/step - loss: 0.3049 - categorical_accuracy: 0.8891 - val_loss: 0.3231 - val_categorical_accuracy: 0.8844\n",
      "Epoch 7/30\n",
      "94/94 [==============================] - ETA: 0s - loss: 0.2904 - categorical_accuracy: 0.8945\n",
      "Epoch 7: val_loss did not improve from 0.28860\n",
      "94/94 [==============================] - 7s 71ms/step - loss: 0.2904 - categorical_accuracy: 0.8945 - val_loss: 0.3151 - val_categorical_accuracy: 0.8871\n",
      "Epoch 8/30\n",
      "94/94 [==============================] - ETA: 0s - loss: 0.2773 - categorical_accuracy: 0.8974\n",
      "Epoch 8: val_loss did not improve from 0.28860\n",
      "94/94 [==============================] - 7s 72ms/step - loss: 0.2773 - categorical_accuracy: 0.8974 - val_loss: 0.3232 - val_categorical_accuracy: 0.8848\n",
      "Epoch 9/30\n",
      "94/94 [==============================] - ETA: 0s - loss: 0.2714 - categorical_accuracy: 0.8997\n",
      "Epoch 9: val_loss did not improve from 0.28860\n",
      "94/94 [==============================] - 7s 70ms/step - loss: 0.2714 - categorical_accuracy: 0.8997 - val_loss: 0.3439 - val_categorical_accuracy: 0.8782\n",
      "Epoch 10/30\n",
      "94/94 [==============================] - ETA: 0s - loss: 0.2669 - categorical_accuracy: 0.9009\n",
      "Epoch 10: val_loss did not improve from 0.28860\n",
      "94/94 [==============================] - 7s 72ms/step - loss: 0.2669 - categorical_accuracy: 0.9009 - val_loss: 0.3056 - val_categorical_accuracy: 0.8928\n",
      "Epoch 11/30\n",
      "94/94 [==============================] - ETA: 0s - loss: 0.2508 - categorical_accuracy: 0.9086\n",
      "Epoch 11: val_loss did not improve from 0.28860\n",
      "94/94 [==============================] - 7s 72ms/step - loss: 0.2508 - categorical_accuracy: 0.9086 - val_loss: 0.2982 - val_categorical_accuracy: 0.8932\n",
      "Epoch 12/30\n",
      "94/94 [==============================] - ETA: 0s - loss: 0.2454 - categorical_accuracy: 0.9111\n",
      "Epoch 12: val_loss did not improve from 0.28860\n",
      "94/94 [==============================] - 7s 72ms/step - loss: 0.2454 - categorical_accuracy: 0.9111 - val_loss: 0.3115 - val_categorical_accuracy: 0.8881\n",
      "Epoch 13/30\n",
      "94/94 [==============================] - ETA: 0s - loss: 0.2397 - categorical_accuracy: 0.9112\n",
      "Epoch 13: val_loss did not improve from 0.28860\n",
      "94/94 [==============================] - 7s 73ms/step - loss: 0.2397 - categorical_accuracy: 0.9112 - val_loss: 0.3009 - val_categorical_accuracy: 0.8918\n",
      "Epoch 14/30\n",
      "94/94 [==============================] - ETA: 0s - loss: 0.2328 - categorical_accuracy: 0.9139\n",
      "Epoch 14: val_loss did not improve from 0.28860\n",
      "94/94 [==============================] - 7s 71ms/step - loss: 0.2328 - categorical_accuracy: 0.9139 - val_loss: 0.2887 - val_categorical_accuracy: 0.8957\n",
      "Epoch 15/30\n",
      "94/94 [==============================] - ETA: 0s - loss: 0.2278 - categorical_accuracy: 0.9155\n",
      "Epoch 15: val_loss did not improve from 0.28860\n",
      "94/94 [==============================] - 7s 71ms/step - loss: 0.2278 - categorical_accuracy: 0.9155 - val_loss: 0.3133 - val_categorical_accuracy: 0.8872\n",
      "Epoch 16/30\n",
      "94/94 [==============================] - ETA: 0s - loss: 0.2205 - categorical_accuracy: 0.9182\n",
      "Epoch 16: val_loss did not improve from 0.28860\n",
      "94/94 [==============================] - 7s 71ms/step - loss: 0.2205 - categorical_accuracy: 0.9182 - val_loss: 0.2982 - val_categorical_accuracy: 0.8928\n",
      "Epoch 17/30\n",
      "94/94 [==============================] - ETA: 0s - loss: 0.2142 - categorical_accuracy: 0.9207\n",
      "Epoch 17: val_loss did not improve from 0.28860\n",
      "94/94 [==============================] - 7s 70ms/step - loss: 0.2142 - categorical_accuracy: 0.9207 - val_loss: 0.2959 - val_categorical_accuracy: 0.8935\n",
      "Epoch 18/30\n",
      "94/94 [==============================] - ETA: 0s - loss: 0.2085 - categorical_accuracy: 0.9235\n",
      "Epoch 18: val_loss improved from 0.28860 to 0.28570, saving model to best.hdf5\n",
      "94/94 [==============================] - 7s 72ms/step - loss: 0.2085 - categorical_accuracy: 0.9235 - val_loss: 0.2857 - val_categorical_accuracy: 0.8997\n",
      "Epoch 19/30\n",
      "94/94 [==============================] - ETA: 0s - loss: 0.2038 - categorical_accuracy: 0.9252\n",
      "Epoch 19: val_loss did not improve from 0.28570\n",
      "94/94 [==============================] - 7s 73ms/step - loss: 0.2038 - categorical_accuracy: 0.9252 - val_loss: 0.2956 - val_categorical_accuracy: 0.8974\n",
      "Epoch 20/30\n",
      "94/94 [==============================] - ETA: 0s - loss: 0.2004 - categorical_accuracy: 0.9252\n",
      "Epoch 20: val_loss did not improve from 0.28570\n",
      "94/94 [==============================] - 7s 70ms/step - loss: 0.2004 - categorical_accuracy: 0.9252 - val_loss: 0.3018 - val_categorical_accuracy: 0.8959\n",
      "Epoch 21/30\n",
      "94/94 [==============================] - ETA: 0s - loss: 0.1942 - categorical_accuracy: 0.9277\n",
      "Epoch 21: val_loss did not improve from 0.28570\n",
      "94/94 [==============================] - 7s 70ms/step - loss: 0.1942 - categorical_accuracy: 0.9277 - val_loss: 0.2999 - val_categorical_accuracy: 0.8957\n",
      "Epoch 22/30\n",
      "94/94 [==============================] - ETA: 0s - loss: 0.1897 - categorical_accuracy: 0.9295\n",
      "Epoch 22: val_loss did not improve from 0.28570\n",
      "94/94 [==============================] - 7s 69ms/step - loss: 0.1897 - categorical_accuracy: 0.9295 - val_loss: 0.2865 - val_categorical_accuracy: 0.8992\n",
      "Epoch 23/30\n",
      "94/94 [==============================] - ETA: 0s - loss: 0.1851 - categorical_accuracy: 0.9306\n",
      "Epoch 23: val_loss did not improve from 0.28570\n",
      "94/94 [==============================] - 7s 70ms/step - loss: 0.1851 - categorical_accuracy: 0.9306 - val_loss: 0.2921 - val_categorical_accuracy: 0.9000\n",
      "Epoch 24/30\n",
      "94/94 [==============================] - ETA: 0s - loss: 0.1813 - categorical_accuracy: 0.9330\n",
      "Epoch 24: val_loss did not improve from 0.28570\n",
      "94/94 [==============================] - 7s 73ms/step - loss: 0.1813 - categorical_accuracy: 0.9330 - val_loss: 0.3017 - val_categorical_accuracy: 0.8968\n",
      "Epoch 25/30\n",
      "94/94 [==============================] - ETA: 0s - loss: 0.1772 - categorical_accuracy: 0.9344\n",
      "Epoch 25: val_loss improved from 0.28570 to 0.27989, saving model to best.hdf5\n",
      "94/94 [==============================] - 7s 72ms/step - loss: 0.1772 - categorical_accuracy: 0.9344 - val_loss: 0.2799 - val_categorical_accuracy: 0.9033\n",
      "Epoch 26/30\n",
      "94/94 [==============================] - ETA: 0s - loss: 0.1726 - categorical_accuracy: 0.9358\n",
      "Epoch 26: val_loss did not improve from 0.27989\n",
      "94/94 [==============================] - 7s 71ms/step - loss: 0.1726 - categorical_accuracy: 0.9358 - val_loss: 0.2893 - val_categorical_accuracy: 0.9047\n",
      "Epoch 27/30\n",
      "94/94 [==============================] - ETA: 0s - loss: 0.1690 - categorical_accuracy: 0.9372\n",
      "Epoch 27: val_loss did not improve from 0.27989\n",
      "94/94 [==============================] - 7s 70ms/step - loss: 0.1690 - categorical_accuracy: 0.9372 - val_loss: 0.2877 - val_categorical_accuracy: 0.8986\n",
      "Epoch 28/30\n",
      "94/94 [==============================] - ETA: 0s - loss: 0.1616 - categorical_accuracy: 0.9391\n",
      "Epoch 28: val_loss did not improve from 0.27989\n",
      "94/94 [==============================] - 7s 70ms/step - loss: 0.1616 - categorical_accuracy: 0.9391 - val_loss: 0.3018 - val_categorical_accuracy: 0.8974\n",
      "Epoch 29/30\n",
      "94/94 [==============================] - ETA: 0s - loss: 0.1664 - categorical_accuracy: 0.9373\n",
      "Epoch 29: val_loss did not improve from 0.27989\n",
      "94/94 [==============================] - 7s 70ms/step - loss: 0.1664 - categorical_accuracy: 0.9373 - val_loss: 0.2860 - val_categorical_accuracy: 0.9028\n",
      "Epoch 30/30\n",
      "94/94 [==============================] - ETA: 0s - loss: 0.1609 - categorical_accuracy: 0.9391\n",
      "Epoch 30: val_loss did not improve from 0.27989\n",
      "94/94 [==============================] - 7s 71ms/step - loss: 0.1609 - categorical_accuracy: 0.9391 - val_loss: 0.2886 - val_categorical_accuracy: 0.9037\n",
      "\n",
      "Accuracy test data: lr 0.0005 0.8949\n",
      "\n"
     ]
    }
   ],
   "source": [
    "# with relu and layer = 2, dropout = 0.3\n",
    "res_accuracy = []\n",
    "res_history = []\n",
    "for l_rate in learning_rates:\n",
    "\n",
    "  conf_dense = [\n",
    "        Dense(n_units_1, activation=activate_funcion, input_shape=(num_features,)),\n",
    "        Dropout(0.3),\n",
    "        Dense(n_units_2, activation=activate_funcion),\n",
    "        Dense(10, activation=\"softmax\"),\n",
    "    ]\n",
    "\n",
    "  model = Sequential(conf_dense)\n",
    "\n",
    "  model.compile(\n",
    "      optimizer=AdamW(learning_rate=l_rate),\n",
    "      loss=\"categorical_crossentropy\",\n",
    "      metrics=[CategoricalAccuracy()],\n",
    "  )\n",
    "\n",
    "  history = model.fit(\n",
    "      train_dataset,\n",
    "      validation_data=valid_dataset,\n",
    "      epochs=n_epochs,\n",
    "      verbose=1,\n",
    "      callbacks=[callback_early_stopping, callback_save]\n",
    "  )\n",
    "  res_history.append(history)  \n",
    "\n",
    "  test_out = model(x_test).numpy()\n",
    "  accuracy_test = np.mean(test_out.argmax(axis=1) == y_test)\n",
    "\n",
    "  res_accuracy.append(accuracy_test)\n",
    "  print()\n",
    "  print(f\"Accuracy test data: lr {l_rate} {accuracy_test.round(4)}\" )\n",
    "  print()"
   ]
  },
  {
   "cell_type": "code",
   "execution_count": 37,
   "id": "d5e9f1bf",
   "metadata": {},
   "outputs": [
    {
     "data": {
      "text/plain": [
       "[0.8928, 0.8902, 0.8949]"
      ]
     },
     "execution_count": 37,
     "metadata": {},
     "output_type": "execute_result"
    }
   ],
   "source": [
    "res_accuracy"
   ]
  },
  {
   "cell_type": "code",
   "execution_count": 38,
   "id": "258ee0d5",
   "metadata": {},
   "outputs": [],
   "source": [
    "loaded_model = load_model(\"best.hdf5\")\n",
    "test_out = loaded_model(x_test).numpy()\n",
    "accuracy_test = np.mean(test_out.argmax(axis=1) == y_test)"
   ]
  },
  {
   "cell_type": "code",
   "execution_count": 39,
   "id": "6c2feeaa",
   "metadata": {},
   "outputs": [
    {
     "data": {
      "text/plain": [
       "0.8943"
      ]
     },
     "execution_count": 39,
     "metadata": {},
     "output_type": "execute_result"
    }
   ],
   "source": [
    "accuracy_test"
   ]
  },
  {
   "cell_type": "code",
   "execution_count": 40,
   "id": "bce4ffa1",
   "metadata": {},
   "outputs": [
    {
     "data": {
      "image/png": "[encoded data removed]",
      "text/plain": [
       "<Figure size 640x480 with 1 Axes>"
      ]
     },
     "metadata": {},
     "output_type": "display_data"
    }
   ],
   "source": [
    "plt.plot(history.history[\"loss\"], label=\"train loss\")\n",
    "plt.plot(history.history[\"val_loss\"], label=\"valid loss\")\n",
    "plt.legend()\n",
    "plt.grid()"
   ]
  },
  {
   "cell_type": "code",
   "execution_count": 32,
   "id": "fd904cf0",
   "metadata": {},
   "outputs": [
    {
     "data": {
      "image/png": "[encoded data removed]",
      "text/plain": [
       "<Figure size 640x480 with 1 Axes>"
      ]
     },
     "metadata": {},
     "output_type": "display_data"
    }
   ],
   "source": [
    "plt.plot(history.history[\"categorical_accuracy\"], label=\"train accuracy\")\n",
    "plt.plot(history.history[\"val_categorical_accuracy\"], label=\"valid accuracy\")\n",
    "plt.legend()\n",
    "plt.grid()"
   ]
  },
  {
   "cell_type": "markdown",
   "id": "6c184805",
   "metadata": {},
   "source": [
    "# Conclusion\n",
    "\n",
    "Best params:\n",
    "1. learning_rate = 0.0005\n",
    "1. n_units = [4000, 80]\n",
    "1. batch_size = 512\n",
    "1. layers = 2\n",
    "1. activate_funcion = \"relu\"\n",
    "1. optimizer = \"AdamW\"\n",
    "1. Dropout = 0.3\n",
    "\n",
    "Final accuracy = 0.8943"
   ]
  },
  {
   "cell_type": "code",
   "execution_count": null,
   "id": "e0d379f0",
   "metadata": {},
   "outputs": [],
   "source": []
  }
 ],
 "metadata": {
  "kernelspec": {
   "display_name": "Python 3 (ipykernel)",
   "language": "python",
   "name": "python3"
  },
  "language_info": {
   "codemirror_mode": {
    "name": "ipython",
    "version": 3
   },
   "file_extension": ".py",
   "mimetype": "text/x-python",
   "name": "python",
   "nbconvert_exporter": "python",
   "pygments_lexer": "ipython3",
   "version": "3.8.10"
  }
 },
 "nbformat": 4,
 "nbformat_minor": 5
}
